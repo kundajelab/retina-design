{
 "cells": [
  {
   "cell_type": "markdown",
   "metadata": {},
   "source": [
    "# Cell state x motif plot (negative motifs)\n",
    "\n",
    "Plot showing which motifs were extracted from each cell type (for the curated motif set).\n",
    "\n",
    "Inputs:\n",
    "1. Cluster config\n",
    "2. One file per cell state with motif annotation and number of seqlets."
   ]
  },
  {
   "cell_type": "code",
   "execution_count": 2,
   "metadata": {},
   "outputs": [],
   "source": [
    "library(ggplot2)\n",
    "library(dplyr)\n",
    "library(scales)"
   ]
  },
  {
   "cell_type": "markdown",
   "metadata": {},
   "source": [
    "## Load inputs"
   ]
  },
  {
   "cell_type": "code",
   "execution_count": 3,
   "metadata": {},
   "outputs": [],
   "source": [
    "STATE_ORDER = rev(c(\"Rod\", \n",
    "                \"OFFconebipolar\", \n",
    "                \"Mullerglia\",\n",
    "                \"ONconebipolar\",\n",
    "                \"Rodbipolar\",\n",
    "                \"Cone\",\n",
    "                \"GABAamacrine\",\n",
    "                \"Horizontal\",\n",
    "                \"Glyamacrine\",\n",
    "                \"Retinalganglioncell\",\n",
    "                \"AIIamacrine\",\n",
    "                \"Astrocyte\",\n",
    "                \"Microglia\"))"
   ]
  },
  {
   "cell_type": "markdown",
   "metadata": {},
   "source": [
    "### Per cell state annotated MoDISco motifs"
   ]
  },
  {
   "cell_type": "code",
   "execution_count": 5,
   "metadata": {},
   "outputs": [
    {
     "data": {
      "text/html": [
       "<table class=\"dataframe\">\n",
       "<caption>A data.frame: 1 × 4</caption>\n",
       "<thead>\n",
       "\t<tr><th></th><th scope=col>Pattern</th><th scope=col>num_seqlets</th><th scope=col>match_1</th><th scope=col>q.value</th></tr>\n",
       "\t<tr><th></th><th scope=col>&lt;chr&gt;</th><th scope=col>&lt;int&gt;</th><th scope=col>&lt;chr&gt;</th><th scope=col>&lt;dbl&gt;</th></tr>\n",
       "</thead>\n",
       "<tbody>\n",
       "\t<tr><th scope=row>1</th><td>pattern_0</td><td>789</td><td>SNAI</td><td>1.98084e-14</td></tr>\n",
       "</tbody>\n",
       "</table>\n"
      ],
      "text/latex": [
       "A data.frame: 1 × 4\n",
       "\\begin{tabular}{r|llll}\n",
       "  & Pattern & num\\_seqlets & match\\_1 & q.value\\\\\n",
       "  & <chr> & <int> & <chr> & <dbl>\\\\\n",
       "\\hline\n",
       "\t1 & pattern\\_0 & 789 & SNAI & 1.98084e-14\\\\\n",
       "\\end{tabular}\n"
      ],
      "text/markdown": [
       "\n",
       "A data.frame: 1 × 4\n",
       "\n",
       "| <!--/--> | Pattern &lt;chr&gt; | num_seqlets &lt;int&gt; | match_1 &lt;chr&gt; | q.value &lt;dbl&gt; |\n",
       "|---|---|---|---|---|\n",
       "| 1 | pattern_0 | 789 | SNAI | 1.98084e-14 |\n",
       "\n"
      ],
      "text/plain": [
       "  Pattern   num_seqlets match_1 q.value    \n",
       "1 pattern_0 789         SNAI    1.98084e-14"
      ]
     },
     "metadata": {},
     "output_type": "display_data"
    }
   ],
   "source": [
    "modisco_annotated = list()\n",
    "\n",
    "for (i in STATE_ORDER) {\n",
    "    modisco_annotated[[i]] = read.table(sprintf(\"./tomtom_negative/%s.txt\", i), \n",
    "                                        sep='\\t', \n",
    "                                        header=T,\n",
    "                                       stringsAsFactors=F)\n",
    "    \n",
    "}\n",
    "\n",
    "head(modisco_annotated[[2]])"
   ]
  },
  {
   "cell_type": "code",
   "execution_count": 36,
   "metadata": {},
   "outputs": [
    {
     "data": {
      "text/html": [
       "<table class=\"dataframe\">\n",
       "<caption>A data.frame: 6 × 4</caption>\n",
       "<thead>\n",
       "\t<tr><th></th><th scope=col>Pattern</th><th scope=col>num_seqlets</th><th scope=col>match_1</th><th scope=col>q.value</th></tr>\n",
       "\t<tr><th></th><th scope=col>&lt;chr&gt;</th><th scope=col>&lt;int&gt;</th><th scope=col>&lt;chr&gt;</th><th scope=col>&lt;dbl&gt;</th></tr>\n",
       "</thead>\n",
       "<tbody>\n",
       "\t<tr><th scope=row>1</th><td>pattern_0</td><td>6584</td><td>CTCF   </td><td>5.61915e-36</td></tr>\n",
       "\t<tr><th scope=row>2</th><td>pattern_1</td><td>6238</td><td>NFI    </td><td>1.09986e-38</td></tr>\n",
       "\t<tr><th scope=row>3</th><td>pattern_2</td><td>4682</td><td>SP     </td><td>2.88422e-34</td></tr>\n",
       "\t<tr><th scope=row>4</th><td>pattern_3</td><td>3837</td><td>NFY    </td><td>1.41074e-27</td></tr>\n",
       "\t<tr><th scope=row>5</th><td>pattern_4</td><td>2966</td><td>AP-1   </td><td>4.17489e-15</td></tr>\n",
       "\t<tr><th scope=row>6</th><td>pattern_5</td><td>2533</td><td>SOX:SOX</td><td>1.74204e-37</td></tr>\n",
       "</tbody>\n",
       "</table>\n"
      ],
      "text/latex": [
       "A data.frame: 6 × 4\n",
       "\\begin{tabular}{r|llll}\n",
       "  & Pattern & num\\_seqlets & match\\_1 & q.value\\\\\n",
       "  & <chr> & <int> & <chr> & <dbl>\\\\\n",
       "\\hline\n",
       "\t1 & pattern\\_0 & 6584 & CTCF    & 5.61915e-36\\\\\n",
       "\t2 & pattern\\_1 & 6238 & NFI     & 1.09986e-38\\\\\n",
       "\t3 & pattern\\_2 & 4682 & SP      & 2.88422e-34\\\\\n",
       "\t4 & pattern\\_3 & 3837 & NFY     & 1.41074e-27\\\\\n",
       "\t5 & pattern\\_4 & 2966 & AP-1    & 4.17489e-15\\\\\n",
       "\t6 & pattern\\_5 & 2533 & SOX:SOX & 1.74204e-37\\\\\n",
       "\\end{tabular}\n"
      ],
      "text/markdown": [
       "\n",
       "A data.frame: 6 × 4\n",
       "\n",
       "| <!--/--> | Pattern &lt;chr&gt; | num_seqlets &lt;int&gt; | match_1 &lt;chr&gt; | q.value &lt;dbl&gt; |\n",
       "|---|---|---|---|---|\n",
       "| 1 | pattern_0 | 6584 | CTCF    | 5.61915e-36 |\n",
       "| 2 | pattern_1 | 6238 | NFI     | 1.09986e-38 |\n",
       "| 3 | pattern_2 | 4682 | SP      | 2.88422e-34 |\n",
       "| 4 | pattern_3 | 3837 | NFY     | 1.41074e-27 |\n",
       "| 5 | pattern_4 | 2966 | AP-1    | 4.17489e-15 |\n",
       "| 6 | pattern_5 | 2533 | SOX:SOX | 1.74204e-37 |\n",
       "\n"
      ],
      "text/plain": [
       "  Pattern   num_seqlets match_1 q.value    \n",
       "1 pattern_0 6584        CTCF    5.61915e-36\n",
       "2 pattern_1 6238        NFI     1.09986e-38\n",
       "3 pattern_2 4682        SP      2.88422e-34\n",
       "4 pattern_3 3837        NFY     1.41074e-27\n",
       "5 pattern_4 2966        AP-1    4.17489e-15\n",
       "6 pattern_5 2533        SOX:SOX 1.74204e-37"
      ]
     },
     "metadata": {},
     "output_type": "display_data"
    }
   ],
   "source": [
    "# load positives to normalize against\n",
    "modisco_annotated_pos = list()\n",
    "\n",
    "for (i in STATE_ORDER) {\n",
    "    modisco_annotated_pos[[i]] = read.table(sprintf(\"./tomtom/%s.txt\", i), \n",
    "                                        sep='\\t', \n",
    "                                        header=T,\n",
    "                                       stringsAsFactors=F)\n",
    "    \n",
    "}\n",
    "\n",
    "head(modisco_annotated_pos[[2]])"
   ]
  },
  {
   "cell_type": "markdown",
   "metadata": {},
   "source": [
    "## Plot\n",
    "\n",
    "Motifs with \":\" are dimers of 30 curated motifs, which can be ignored for now.\n",
    "\n",
    "Multiple patterns can match to the same motif."
   ]
  },
  {
   "cell_type": "code",
   "execution_count": 6,
   "metadata": {},
   "outputs": [],
   "source": [
    "QVAL = 0.05"
   ]
  },
  {
   "cell_type": "code",
   "execution_count": 7,
   "metadata": {},
   "outputs": [],
   "source": [
    "motif_names = c()\n",
    "\n",
    "for (i in STATE_ORDER) {\n",
    "    motif_names = c(motif_names , modisco_annotated[[i]]$match_1)\n",
    "}\n",
    "motif_names = rev(sort(table(motif_names)))"
   ]
  },
  {
   "cell_type": "code",
   "execution_count": 8,
   "metadata": {},
   "outputs": [
    {
     "data": {
      "text/plain": [
       "motif_names\n",
       "                   SNAI                   ZBTB7                     NFY \n",
       "                      6                       3                       3 \n",
       "       UNKNOWN(ttCTTga)             UNKNOWN:ZNF           UNKNOWN(ATAT) \n",
       "                      2                       2                       1 \n",
       "       UNKNOWN(AT-RICH)                     OTX                   MYT1L \n",
       "                      1                       1                       1 \n",
       " MAYBE:ZNF692(tGG.CCCa) MAYBE:ZBTB7-ALT(tGGTGG) \n",
       "                      1                       1 "
      ]
     },
     "metadata": {},
     "output_type": "display_data"
    }
   ],
   "source": [
    "motif_names"
   ]
  },
  {
   "cell_type": "code",
   "execution_count": 9,
   "metadata": {},
   "outputs": [],
   "source": [
    "MOTIF_SUBSET = read.table(\"../20241103_motif_consolidation/tfs_final_w_rep_negative.tsv\", stringsAsFactor=F)$V4"
   ]
  },
  {
   "cell_type": "code",
   "execution_count": null,
   "metadata": {},
   "outputs": [],
   "source": []
  },
  {
   "cell_type": "code",
   "execution_count": 48,
   "metadata": {},
   "outputs": [],
   "source": [
    "filtered_modisco = list()\n",
    "\n",
    "for (i in STATE_ORDER) {\n",
    "    cur = modisco_annotated[[i]]\n",
    "    cur = cur[cur$q.value < QVAL, ]\n",
    "    # cur$frac = cur$num_seqlets/sum(cur$num_seqlets)\n",
    "    cur$frac = cur$num_seqlets/sum(modisco_annotated_pos[[i]]$num_seqlets)\n",
    "    \n",
    "    cur = cur[cur$match_1 %in% MOTIF_SUBSET, c(\"frac\", \"match_1\")]\n",
    "    cur = cur %>% group_by(match_1) %>% summarize_all(sum)\n",
    "    cur$log10_frac = log10(cur$frac)\n",
    "    \n",
    "    filtered_modisco[[i]] = cur\n",
    "}"
   ]
  },
  {
   "cell_type": "code",
   "execution_count": 49,
   "metadata": {},
   "outputs": [],
   "source": [
    "plot_df = data.frame()\n",
    "\n",
    "for (i in STATE_ORDER) {\n",
    "    cur = filtered_modisco[[i]]\n",
    "    cur$state = i\n",
    "    \n",
    "    plot_df = rbind(plot_df, cur)\n",
    "}"
   ]
  },
  {
   "cell_type": "code",
   "execution_count": 75,
   "metadata": {},
   "outputs": [],
   "source": [
    "missing_states <- setdiff(STATE_ORDER, unique(plot_df$state))\n",
    "\n",
    "# Create placeholder rows for missing states\n",
    "placeholder_rows <- data.frame(match_1 = \"MYT1L\", \n",
    "                               frac = NA, \n",
    "                               log10_frac = NA, \n",
    "                               state = missing_states, \n",
    "                               stringsAsFactors = FALSE)"
   ]
  },
  {
   "cell_type": "code",
   "execution_count": 76,
   "metadata": {},
   "outputs": [],
   "source": [
    "plot_df_complete <- rbind(plot_df, placeholder_rows)"
   ]
  },
  {
   "cell_type": "code",
   "execution_count": 77,
   "metadata": {},
   "outputs": [
    {
     "data": {
      "text/html": [
       "<table class=\"dataframe\">\n",
       "<caption>A tibble: 27 × 4</caption>\n",
       "<thead>\n",
       "\t<tr><th scope=col>match_1</th><th scope=col>frac</th><th scope=col>log10_frac</th><th scope=col>state</th></tr>\n",
       "\t<tr><th scope=col>&lt;chr&gt;</th><th scope=col>&lt;dbl&gt;</th><th scope=col>&lt;dbl&gt;</th><th scope=col>&lt;chr&gt;</th></tr>\n",
       "</thead>\n",
       "<tbody>\n",
       "\t<tr><td>SNAI                   </td><td>0.020024364</td><td>-1.698441</td><td>Astrocyte          </td></tr>\n",
       "\t<tr><td>NFY                    </td><td>0.005421416</td><td>-2.265887</td><td>Retinalganglioncell</td></tr>\n",
       "\t<tr><td>SNAI                   </td><td>0.005765213</td><td>-2.239185</td><td>Retinalganglioncell</td></tr>\n",
       "\t<tr><td>ZBTB7                  </td><td>0.006505699</td><td>-2.186706</td><td>Retinalganglioncell</td></tr>\n",
       "\t<tr><td>SNAI                   </td><td>0.014830736</td><td>-1.828837</td><td>Horizontal         </td></tr>\n",
       "\t<tr><td>UNKNOWN:ZNF            </td><td>0.002901666</td><td>-2.537353</td><td>Horizontal         </td></tr>\n",
       "\t<tr><td>UNKNOWN(AT-RICH)       </td><td>0.003439011</td><td>-2.463566</td><td>Horizontal         </td></tr>\n",
       "\t<tr><td>UNKNOWN(ttCTTga)       </td><td>0.004271897</td><td>-2.369379</td><td>Horizontal         </td></tr>\n",
       "\t<tr><td>ZBTB7                  </td><td>0.005964535</td><td>-2.224423</td><td>Horizontal         </td></tr>\n",
       "\t<tr><td>MAYBE:ZBTB7-ALT(tGGTGG)</td><td>0.004408176</td><td>-2.355741</td><td>GABAamacrine       </td></tr>\n",
       "\t<tr><td>MAYBE:ZNF692(tGG.CCCa) </td><td>0.003542284</td><td>-2.450717</td><td>GABAamacrine       </td></tr>\n",
       "\t<tr><td>MYT1L                  </td><td>0.003017502</td><td>-2.520353</td><td>GABAamacrine       </td></tr>\n",
       "\t<tr><td>NFY                    </td><td>0.015244942</td><td>-1.816874</td><td>GABAamacrine       </td></tr>\n",
       "\t<tr><td>SNAI                   </td><td>0.007425678</td><td>-2.129264</td><td>GABAamacrine       </td></tr>\n",
       "\t<tr><td>UNKNOWN:ZNF            </td><td>0.003516045</td><td>-2.453946</td><td>GABAamacrine       </td></tr>\n",
       "\t<tr><td>ZBTB7                  </td><td>0.002860067</td><td>-2.543624</td><td>GABAamacrine       </td></tr>\n",
       "\t<tr><td>OTX                    </td><td>0.007304079</td><td>-2.136435</td><td>Rodbipolar         </td></tr>\n",
       "\t<tr><td>NFY                    </td><td>0.002899407</td><td>-2.537691</td><td>Mullerglia         </td></tr>\n",
       "\t<tr><td>SNAI                   </td><td>0.003141024</td><td>-2.502929</td><td>Mullerglia         </td></tr>\n",
       "\t<tr><td>UNKNOWN(ATAT)          </td><td>0.005100808</td><td>-2.292361</td><td>Mullerglia         </td></tr>\n",
       "\t<tr><td>MYT1L                  </td><td>         NA</td><td>       NA</td><td>Microglia          </td></tr>\n",
       "\t<tr><td>MYT1L                  </td><td>         NA</td><td>       NA</td><td>AIIamacrine        </td></tr>\n",
       "\t<tr><td>MYT1L                  </td><td>         NA</td><td>       NA</td><td>Glyamacrine        </td></tr>\n",
       "\t<tr><td>MYT1L                  </td><td>         NA</td><td>       NA</td><td>Cone               </td></tr>\n",
       "\t<tr><td>MYT1L                  </td><td>         NA</td><td>       NA</td><td>ONconebipolar      </td></tr>\n",
       "\t<tr><td>MYT1L                  </td><td>         NA</td><td>       NA</td><td>OFFconebipolar     </td></tr>\n",
       "\t<tr><td>MYT1L                  </td><td>         NA</td><td>       NA</td><td>Rod                </td></tr>\n",
       "</tbody>\n",
       "</table>\n"
      ],
      "text/latex": [
       "A tibble: 27 × 4\n",
       "\\begin{tabular}{llll}\n",
       " match\\_1 & frac & log10\\_frac & state\\\\\n",
       " <chr> & <dbl> & <dbl> & <chr>\\\\\n",
       "\\hline\n",
       "\t SNAI                    & 0.020024364 & -1.698441 & Astrocyte          \\\\\n",
       "\t NFY                     & 0.005421416 & -2.265887 & Retinalganglioncell\\\\\n",
       "\t SNAI                    & 0.005765213 & -2.239185 & Retinalganglioncell\\\\\n",
       "\t ZBTB7                   & 0.006505699 & -2.186706 & Retinalganglioncell\\\\\n",
       "\t SNAI                    & 0.014830736 & -1.828837 & Horizontal         \\\\\n",
       "\t UNKNOWN:ZNF             & 0.002901666 & -2.537353 & Horizontal         \\\\\n",
       "\t UNKNOWN(AT-RICH)        & 0.003439011 & -2.463566 & Horizontal         \\\\\n",
       "\t UNKNOWN(ttCTTga)        & 0.004271897 & -2.369379 & Horizontal         \\\\\n",
       "\t ZBTB7                   & 0.005964535 & -2.224423 & Horizontal         \\\\\n",
       "\t MAYBE:ZBTB7-ALT(tGGTGG) & 0.004408176 & -2.355741 & GABAamacrine       \\\\\n",
       "\t MAYBE:ZNF692(tGG.CCCa)  & 0.003542284 & -2.450717 & GABAamacrine       \\\\\n",
       "\t MYT1L                   & 0.003017502 & -2.520353 & GABAamacrine       \\\\\n",
       "\t NFY                     & 0.015244942 & -1.816874 & GABAamacrine       \\\\\n",
       "\t SNAI                    & 0.007425678 & -2.129264 & GABAamacrine       \\\\\n",
       "\t UNKNOWN:ZNF             & 0.003516045 & -2.453946 & GABAamacrine       \\\\\n",
       "\t ZBTB7                   & 0.002860067 & -2.543624 & GABAamacrine       \\\\\n",
       "\t OTX                     & 0.007304079 & -2.136435 & Rodbipolar         \\\\\n",
       "\t NFY                     & 0.002899407 & -2.537691 & Mullerglia         \\\\\n",
       "\t SNAI                    & 0.003141024 & -2.502929 & Mullerglia         \\\\\n",
       "\t UNKNOWN(ATAT)           & 0.005100808 & -2.292361 & Mullerglia         \\\\\n",
       "\t MYT1L                   &          NA &        NA & Microglia          \\\\\n",
       "\t MYT1L                   &          NA &        NA & AIIamacrine        \\\\\n",
       "\t MYT1L                   &          NA &        NA & Glyamacrine        \\\\\n",
       "\t MYT1L                   &          NA &        NA & Cone               \\\\\n",
       "\t MYT1L                   &          NA &        NA & ONconebipolar      \\\\\n",
       "\t MYT1L                   &          NA &        NA & OFFconebipolar     \\\\\n",
       "\t MYT1L                   &          NA &        NA & Rod                \\\\\n",
       "\\end{tabular}\n"
      ],
      "text/markdown": [
       "\n",
       "A tibble: 27 × 4\n",
       "\n",
       "| match_1 &lt;chr&gt; | frac &lt;dbl&gt; | log10_frac &lt;dbl&gt; | state &lt;chr&gt; |\n",
       "|---|---|---|---|\n",
       "| SNAI                    | 0.020024364 | -1.698441 | Astrocyte           |\n",
       "| NFY                     | 0.005421416 | -2.265887 | Retinalganglioncell |\n",
       "| SNAI                    | 0.005765213 | -2.239185 | Retinalganglioncell |\n",
       "| ZBTB7                   | 0.006505699 | -2.186706 | Retinalganglioncell |\n",
       "| SNAI                    | 0.014830736 | -1.828837 | Horizontal          |\n",
       "| UNKNOWN:ZNF             | 0.002901666 | -2.537353 | Horizontal          |\n",
       "| UNKNOWN(AT-RICH)        | 0.003439011 | -2.463566 | Horizontal          |\n",
       "| UNKNOWN(ttCTTga)        | 0.004271897 | -2.369379 | Horizontal          |\n",
       "| ZBTB7                   | 0.005964535 | -2.224423 | Horizontal          |\n",
       "| MAYBE:ZBTB7-ALT(tGGTGG) | 0.004408176 | -2.355741 | GABAamacrine        |\n",
       "| MAYBE:ZNF692(tGG.CCCa)  | 0.003542284 | -2.450717 | GABAamacrine        |\n",
       "| MYT1L                   | 0.003017502 | -2.520353 | GABAamacrine        |\n",
       "| NFY                     | 0.015244942 | -1.816874 | GABAamacrine        |\n",
       "| SNAI                    | 0.007425678 | -2.129264 | GABAamacrine        |\n",
       "| UNKNOWN:ZNF             | 0.003516045 | -2.453946 | GABAamacrine        |\n",
       "| ZBTB7                   | 0.002860067 | -2.543624 | GABAamacrine        |\n",
       "| OTX                     | 0.007304079 | -2.136435 | Rodbipolar          |\n",
       "| NFY                     | 0.002899407 | -2.537691 | Mullerglia          |\n",
       "| SNAI                    | 0.003141024 | -2.502929 | Mullerglia          |\n",
       "| UNKNOWN(ATAT)           | 0.005100808 | -2.292361 | Mullerglia          |\n",
       "| MYT1L                   |          NA |        NA | Microglia           |\n",
       "| MYT1L                   |          NA |        NA | AIIamacrine         |\n",
       "| MYT1L                   |          NA |        NA | Glyamacrine         |\n",
       "| MYT1L                   |          NA |        NA | Cone                |\n",
       "| MYT1L                   |          NA |        NA | ONconebipolar       |\n",
       "| MYT1L                   |          NA |        NA | OFFconebipolar      |\n",
       "| MYT1L                   |          NA |        NA | Rod                 |\n",
       "\n"
      ],
      "text/plain": [
       "   match_1                 frac        log10_frac state              \n",
       "1  SNAI                    0.020024364 -1.698441  Astrocyte          \n",
       "2  NFY                     0.005421416 -2.265887  Retinalganglioncell\n",
       "3  SNAI                    0.005765213 -2.239185  Retinalganglioncell\n",
       "4  ZBTB7                   0.006505699 -2.186706  Retinalganglioncell\n",
       "5  SNAI                    0.014830736 -1.828837  Horizontal         \n",
       "6  UNKNOWN:ZNF             0.002901666 -2.537353  Horizontal         \n",
       "7  UNKNOWN(AT-RICH)        0.003439011 -2.463566  Horizontal         \n",
       "8  UNKNOWN(ttCTTga)        0.004271897 -2.369379  Horizontal         \n",
       "9  ZBTB7                   0.005964535 -2.224423  Horizontal         \n",
       "10 MAYBE:ZBTB7-ALT(tGGTGG) 0.004408176 -2.355741  GABAamacrine       \n",
       "11 MAYBE:ZNF692(tGG.CCCa)  0.003542284 -2.450717  GABAamacrine       \n",
       "12 MYT1L                   0.003017502 -2.520353  GABAamacrine       \n",
       "13 NFY                     0.015244942 -1.816874  GABAamacrine       \n",
       "14 SNAI                    0.007425678 -2.129264  GABAamacrine       \n",
       "15 UNKNOWN:ZNF             0.003516045 -2.453946  GABAamacrine       \n",
       "16 ZBTB7                   0.002860067 -2.543624  GABAamacrine       \n",
       "17 OTX                     0.007304079 -2.136435  Rodbipolar         \n",
       "18 NFY                     0.002899407 -2.537691  Mullerglia         \n",
       "19 SNAI                    0.003141024 -2.502929  Mullerglia         \n",
       "20 UNKNOWN(ATAT)           0.005100808 -2.292361  Mullerglia         \n",
       "21 MYT1L                            NA        NA  Microglia          \n",
       "22 MYT1L                            NA        NA  AIIamacrine        \n",
       "23 MYT1L                            NA        NA  Glyamacrine        \n",
       "24 MYT1L                            NA        NA  Cone               \n",
       "25 MYT1L                            NA        NA  ONconebipolar      \n",
       "26 MYT1L                            NA        NA  OFFconebipolar     \n",
       "27 MYT1L                            NA        NA  Rod                "
      ]
     },
     "metadata": {},
     "output_type": "display_data"
    }
   ],
   "source": [
    "plot_df_complete"
   ]
  },
  {
   "cell_type": "code",
   "execution_count": 78,
   "metadata": {},
   "outputs": [
    {
     "data": {
      "image/png": "[encoded data removed]",
      "text/plain": [
       "plot without title"
      ]
     },
     "metadata": {
      "image/png": {
       "height": 360,
       "width": 480
      }
     },
     "output_type": "display_data"
    }
   ],
   "source": [
    "options(repr.plot.width = 8, repr.plot.height = 6)\n",
    "\n",
    "ggplot(plot_df_complete) +\n",
    "geom_tile(aes(x=match_1, y=factor(state, levels=STATE_ORDER), fill=frac)) +\n",
    "scale_fill_gradient(low=\"gray90\",\n",
    "                      high=\"violetred4\",\n",
    "                      limits=c(0.01, 0.3),\n",
    "                      oob=squish,\n",
    "                      trans='log10', \n",
    "                      name=\"Log10 fraction\",\n",
    "                   na.value = \"white\") +\n",
    "xlab(\"TF\") +\n",
    "ylab(\"\") +\n",
    "theme_bw() +\n",
    "theme(axis.text.x = element_text(angle = 90, hjust=0.95), # rotate TF text\n",
    "      strip.background = element_blank(),\n",
    "      panel.grid.major = element_blank(),\n",
    "          text = element_text(size=15)) "
   ]
  },
  {
   "cell_type": "code",
   "execution_count": null,
   "metadata": {},
   "outputs": [],
   "source": []
  },
  {
   "cell_type": "markdown",
   "metadata": {},
   "source": [
    "Order for TFs based on similarity"
   ]
  },
  {
   "cell_type": "code",
   "execution_count": 79,
   "metadata": {},
   "outputs": [
    {
     "data": {
      "text/html": [
       "<table class=\"dataframe\">\n",
       "<caption>A tibble: 6 × 4</caption>\n",
       "<thead>\n",
       "\t<tr><th scope=col>match_1</th><th scope=col>frac</th><th scope=col>log10_frac</th><th scope=col>state</th></tr>\n",
       "\t<tr><th scope=col>&lt;chr&gt;</th><th scope=col>&lt;dbl&gt;</th><th scope=col>&lt;dbl&gt;</th><th scope=col>&lt;chr&gt;</th></tr>\n",
       "</thead>\n",
       "<tbody>\n",
       "\t<tr><td>SNAI       </td><td>0.020024364</td><td>-1.698441</td><td>Astrocyte          </td></tr>\n",
       "\t<tr><td>NFY        </td><td>0.005421416</td><td>-2.265887</td><td>Retinalganglioncell</td></tr>\n",
       "\t<tr><td>SNAI       </td><td>0.005765213</td><td>-2.239185</td><td>Retinalganglioncell</td></tr>\n",
       "\t<tr><td>ZBTB7      </td><td>0.006505699</td><td>-2.186706</td><td>Retinalganglioncell</td></tr>\n",
       "\t<tr><td>SNAI       </td><td>0.014830736</td><td>-1.828837</td><td>Horizontal         </td></tr>\n",
       "\t<tr><td>UNKNOWN:ZNF</td><td>0.002901666</td><td>-2.537353</td><td>Horizontal         </td></tr>\n",
       "</tbody>\n",
       "</table>\n"
      ],
      "text/latex": [
       "A tibble: 6 × 4\n",
       "\\begin{tabular}{llll}\n",
       " match\\_1 & frac & log10\\_frac & state\\\\\n",
       " <chr> & <dbl> & <dbl> & <chr>\\\\\n",
       "\\hline\n",
       "\t SNAI        & 0.020024364 & -1.698441 & Astrocyte          \\\\\n",
       "\t NFY         & 0.005421416 & -2.265887 & Retinalganglioncell\\\\\n",
       "\t SNAI        & 0.005765213 & -2.239185 & Retinalganglioncell\\\\\n",
       "\t ZBTB7       & 0.006505699 & -2.186706 & Retinalganglioncell\\\\\n",
       "\t SNAI        & 0.014830736 & -1.828837 & Horizontal         \\\\\n",
       "\t UNKNOWN:ZNF & 0.002901666 & -2.537353 & Horizontal         \\\\\n",
       "\\end{tabular}\n"
      ],
      "text/markdown": [
       "\n",
       "A tibble: 6 × 4\n",
       "\n",
       "| match_1 &lt;chr&gt; | frac &lt;dbl&gt; | log10_frac &lt;dbl&gt; | state &lt;chr&gt; |\n",
       "|---|---|---|---|\n",
       "| SNAI        | 0.020024364 | -1.698441 | Astrocyte           |\n",
       "| NFY         | 0.005421416 | -2.265887 | Retinalganglioncell |\n",
       "| SNAI        | 0.005765213 | -2.239185 | Retinalganglioncell |\n",
       "| ZBTB7       | 0.006505699 | -2.186706 | Retinalganglioncell |\n",
       "| SNAI        | 0.014830736 | -1.828837 | Horizontal          |\n",
       "| UNKNOWN:ZNF | 0.002901666 | -2.537353 | Horizontal          |\n",
       "\n"
      ],
      "text/plain": [
       "  match_1     frac        log10_frac state              \n",
       "1 SNAI        0.020024364 -1.698441  Astrocyte          \n",
       "2 NFY         0.005421416 -2.265887  Retinalganglioncell\n",
       "3 SNAI        0.005765213 -2.239185  Retinalganglioncell\n",
       "4 ZBTB7       0.006505699 -2.186706  Retinalganglioncell\n",
       "5 SNAI        0.014830736 -1.828837  Horizontal         \n",
       "6 UNKNOWN:ZNF 0.002901666 -2.537353  Horizontal         "
      ]
     },
     "metadata": {},
     "output_type": "display_data"
    }
   ],
   "source": [
    "head(plot_df)"
   ]
  },
  {
   "cell_type": "code",
   "execution_count": null,
   "metadata": {},
   "outputs": [],
   "source": []
  },
  {
   "cell_type": "code",
   "execution_count": 80,
   "metadata": {},
   "outputs": [
    {
     "data": {
      "text/html": [
       "'SNAI'"
      ],
      "text/latex": [
       "'SNAI'"
      ],
      "text/markdown": [
       "'SNAI'"
      ],
      "text/plain": [
       "[1] \"SNAI\""
      ]
     },
     "metadata": {},
     "output_type": "display_data"
    }
   ],
   "source": [
    "plot_df[1, ]$match_1"
   ]
  },
  {
   "cell_type": "code",
   "execution_count": 85,
   "metadata": {},
   "outputs": [
    {
     "data": {
      "text/html": [],
      "text/latex": [],
      "text/markdown": [],
      "text/plain": [
       "integer(0)"
      ]
     },
     "metadata": {},
     "output_type": "display_data"
    }
   ],
   "source": [
    "which(MOTIF_SUBSET == plot_df[1, \"match_1\"])"
   ]
  },
  {
   "cell_type": "code",
   "execution_count": 86,
   "metadata": {},
   "outputs": [
    {
     "data": {
      "text/html": [],
      "text/latex": [],
      "text/markdown": [],
      "text/plain": [
       "integer(0)"
      ]
     },
     "metadata": {},
     "output_type": "display_data"
    }
   ],
   "source": [
    "which(MOTIF_SUBSET == \"CTCF\")"
   ]
  },
  {
   "cell_type": "code",
   "execution_count": 87,
   "metadata": {},
   "outputs": [
    {
     "data": {
      "text/html": [
       "<table class=\"dataframe\">\n",
       "<caption>A tibble: 1 × 4</caption>\n",
       "<thead>\n",
       "\t<tr><th scope=col>match_1</th><th scope=col>frac</th><th scope=col>log10_frac</th><th scope=col>state</th></tr>\n",
       "\t<tr><th scope=col>&lt;chr&gt;</th><th scope=col>&lt;dbl&gt;</th><th scope=col>&lt;dbl&gt;</th><th scope=col>&lt;chr&gt;</th></tr>\n",
       "</thead>\n",
       "<tbody>\n",
       "\t<tr><td>SNAI</td><td>0.005765213</td><td>-2.239185</td><td>Retinalganglioncell</td></tr>\n",
       "</tbody>\n",
       "</table>\n"
      ],
      "text/latex": [
       "A tibble: 1 × 4\n",
       "\\begin{tabular}{llll}\n",
       " match\\_1 & frac & log10\\_frac & state\\\\\n",
       " <chr> & <dbl> & <dbl> & <chr>\\\\\n",
       "\\hline\n",
       "\t SNAI & 0.005765213 & -2.239185 & Retinalganglioncell\\\\\n",
       "\\end{tabular}\n"
      ],
      "text/markdown": [
       "\n",
       "A tibble: 1 × 4\n",
       "\n",
       "| match_1 &lt;chr&gt; | frac &lt;dbl&gt; | log10_frac &lt;dbl&gt; | state &lt;chr&gt; |\n",
       "|---|---|---|---|\n",
       "| SNAI | 0.005765213 | -2.239185 | Retinalganglioncell |\n",
       "\n"
      ],
      "text/plain": [
       "  match_1 frac        log10_frac state              \n",
       "1 SNAI    0.005765213 -2.239185  Retinalganglioncell"
      ]
     },
     "metadata": {},
     "output_type": "display_data"
    }
   ],
   "source": [
    "plot_df[3, ]"
   ]
  },
  {
   "cell_type": "code",
   "execution_count": 88,
   "metadata": {},
   "outputs": [],
   "source": [
    "log10_matrix = matrix(1, length(MOTIF_SUBSET), length(STATE_ORDER))\n",
    "\n",
    "log10_matrix = (min(plot_df$log10_frac) - 1)*log10_matrix\n",
    "\n",
    "for (i in seq(nrow(plot_df))) {\n",
    "    log10_matrix[which(MOTIF_SUBSET == plot_df[i, ]$match_1), as.numeric(factor(plot_df[i,]$state, levels=STATE_ORDER))] = plot_df[i,]$log10_frac\n",
    "}\n",
    "\n",
    "log10_matrix = t(log10_matrix)\n",
    "\n",
    "# will use this for re-ordering on membership matrix"
   ]
  },
  {
   "cell_type": "code",
   "execution_count": 89,
   "metadata": {},
   "outputs": [],
   "source": [
    "membership_matrix = matrix(0, length(MOTIF_SUBSET), length(STATE_ORDER))\n",
    "\n",
    "for (i in seq(nrow(plot_df))) {\n",
    "    membership_matrix[which(MOTIF_SUBSET == plot_df[i, ]$match_1), as.numeric(factor(plot_df[i,]$state, levels=STATE_ORDER))] = 1 \n",
    "}\n",
    "\n",
    "membership_matrix = t(membership_matrix)"
   ]
  },
  {
   "cell_type": "code",
   "execution_count": 90,
   "metadata": {},
   "outputs": [],
   "source": [
    "tf_hclust = hclust(dist(t(membership_matrix), method = \"euclidean\"), method = \"ward.D\") # trying to order by membership\n",
    "tf_dendro = as.dendrogram(tf_hclust)\n",
    "# tf_dendro = reorder(tf_dendro, colSums(log10_matrix* seq(1,length(MOTIF_SUBSET)))/colSums(log10_matrix))\n",
    "tf_dendro = reorder(tf_dendro, colSums(membership_matrix))\n",
    "tf_order = as.hclust(tf_dendro)$order"
   ]
  },
  {
   "cell_type": "code",
   "execution_count": null,
   "metadata": {},
   "outputs": [],
   "source": []
  },
  {
   "cell_type": "code",
   "execution_count": 91,
   "metadata": {},
   "outputs": [
    {
     "data": {
      "text/html": [
       "<style>\n",
       ".list-inline {list-style: none; margin:0; padding: 0}\n",
       ".list-inline>li {display: inline-block}\n",
       ".list-inline>li:not(:last-child)::after {content: \"\\00b7\"; padding: 0 .5ex}\n",
       "</style>\n",
       "<ol class=list-inline><li>7</li><li>3</li><li>4</li><li>1</li><li>5</li><li>2</li><li>11</li><li>9</li><li>10</li><li>8</li><li>6</li></ol>\n"
      ],
      "text/latex": [
       "\\begin{enumerate*}\n",
       "\\item 7\n",
       "\\item 3\n",
       "\\item 4\n",
       "\\item 1\n",
       "\\item 5\n",
       "\\item 2\n",
       "\\item 11\n",
       "\\item 9\n",
       "\\item 10\n",
       "\\item 8\n",
       "\\item 6\n",
       "\\end{enumerate*}\n"
      ],
      "text/markdown": [
       "1. 7\n",
       "2. 3\n",
       "3. 4\n",
       "4. 1\n",
       "5. 5\n",
       "6. 2\n",
       "7. 11\n",
       "8. 9\n",
       "9. 10\n",
       "10. 8\n",
       "11. 6\n",
       "\n",
       "\n"
      ],
      "text/plain": [
       " [1]  7  3  4  1  5  2 11  9 10  8  6"
      ]
     },
     "metadata": {},
     "output_type": "display_data"
    }
   ],
   "source": [
    "tf_order"
   ]
  },
  {
   "cell_type": "code",
   "execution_count": 92,
   "metadata": {},
   "outputs": [
    {
     "data": {
      "text/html": [
       "<style>\n",
       ".list-inline {list-style: none; margin:0; padding: 0}\n",
       ".list-inline>li {display: inline-block}\n",
       ".list-inline>li:not(:last-child)::after {content: \"\\00b7\"; padding: 0 .5ex}\n",
       "</style>\n",
       "<ol class=list-inline><li>'MAYBE:ZBTB7-ALT(tGGTGG)'</li><li>'MYT1L'</li><li>'MAYBE:ZNF692(tGG.CCCa)'</li><li>'NFY'</li><li>'SNAI'</li><li>'OTX'</li><li>'UNKNOWN(ATAT)'</li><li>'UNKNOWN(AT-RICH)'</li><li>'UNKNOWN(ttCTTga)'</li><li>'UNKNOWN:ZNF'</li><li>'ZBTB7'</li></ol>\n"
      ],
      "text/latex": [
       "\\begin{enumerate*}\n",
       "\\item 'MAYBE:ZBTB7-ALT(tGGTGG)'\n",
       "\\item 'MYT1L'\n",
       "\\item 'MAYBE:ZNF692(tGG.CCCa)'\n",
       "\\item 'NFY'\n",
       "\\item 'SNAI'\n",
       "\\item 'OTX'\n",
       "\\item 'UNKNOWN(ATAT)'\n",
       "\\item 'UNKNOWN(AT-RICH)'\n",
       "\\item 'UNKNOWN(ttCTTga)'\n",
       "\\item 'UNKNOWN:ZNF'\n",
       "\\item 'ZBTB7'\n",
       "\\end{enumerate*}\n"
      ],
      "text/markdown": [
       "1. 'MAYBE:ZBTB7-ALT(tGGTGG)'\n",
       "2. 'MYT1L'\n",
       "3. 'MAYBE:ZNF692(tGG.CCCa)'\n",
       "4. 'NFY'\n",
       "5. 'SNAI'\n",
       "6. 'OTX'\n",
       "7. 'UNKNOWN(ATAT)'\n",
       "8. 'UNKNOWN(AT-RICH)'\n",
       "9. 'UNKNOWN(ttCTTga)'\n",
       "10. 'UNKNOWN:ZNF'\n",
       "11. 'ZBTB7'\n",
       "\n",
       "\n"
      ],
      "text/plain": [
       " [1] \"MAYBE:ZBTB7-ALT(tGGTGG)\" \"MYT1L\"                  \n",
       " [3] \"MAYBE:ZNF692(tGG.CCCa)\"  \"NFY\"                    \n",
       " [5] \"SNAI\"                    \"OTX\"                    \n",
       " [7] \"UNKNOWN(ATAT)\"           \"UNKNOWN(AT-RICH)\"       \n",
       " [9] \"UNKNOWN(ttCTTga)\"        \"UNKNOWN:ZNF\"            \n",
       "[11] \"ZBTB7\"                  "
      ]
     },
     "metadata": {},
     "output_type": "display_data"
    }
   ],
   "source": [
    "MOTIF_SUBSET[tf_order]"
   ]
  },
  {
   "cell_type": "code",
   "execution_count": 93,
   "metadata": {},
   "outputs": [],
   "source": [
    "# manual adjustements\n",
    "# move OTX:OTX together \n",
    "# bring TFAP2 before SPI (since it's exclusive)"
   ]
  },
  {
   "cell_type": "code",
   "execution_count": 94,
   "metadata": {},
   "outputs": [
    {
     "data": {
      "text/html": [
       "11"
      ],
      "text/latex": [
       "11"
      ],
      "text/markdown": [
       "11"
      ],
      "text/plain": [
       "[1] 11"
      ]
     },
     "metadata": {},
     "output_type": "display_data"
    }
   ],
   "source": [
    "length(tf_order)"
   ]
  },
  {
   "cell_type": "code",
   "execution_count": 95,
   "metadata": {},
   "outputs": [],
   "source": [
    "# tf_order = tf_order[c(c(1,3,4,5,2), 6:9, 17, 10:16, 18:29)]"
   ]
  },
  {
   "cell_type": "code",
   "execution_count": 96,
   "metadata": {},
   "outputs": [
    {
     "data": {
      "text/html": [
       "<style>\n",
       ".list-inline {list-style: none; margin:0; padding: 0}\n",
       ".list-inline>li {display: inline-block}\n",
       ".list-inline>li:not(:last-child)::after {content: \"\\00b7\"; padding: 0 .5ex}\n",
       "</style>\n",
       "<ol class=list-inline><li>'MAYBE:ZBTB7-ALT(tGGTGG)'</li><li>'MYT1L'</li><li>'MAYBE:ZNF692(tGG.CCCa)'</li><li>'NFY'</li><li>'SNAI'</li><li>'OTX'</li><li>'UNKNOWN(ATAT)'</li><li>'UNKNOWN(AT-RICH)'</li><li>'UNKNOWN(ttCTTga)'</li><li>'UNKNOWN:ZNF'</li><li>'ZBTB7'</li></ol>\n"
      ],
      "text/latex": [
       "\\begin{enumerate*}\n",
       "\\item 'MAYBE:ZBTB7-ALT(tGGTGG)'\n",
       "\\item 'MYT1L'\n",
       "\\item 'MAYBE:ZNF692(tGG.CCCa)'\n",
       "\\item 'NFY'\n",
       "\\item 'SNAI'\n",
       "\\item 'OTX'\n",
       "\\item 'UNKNOWN(ATAT)'\n",
       "\\item 'UNKNOWN(AT-RICH)'\n",
       "\\item 'UNKNOWN(ttCTTga)'\n",
       "\\item 'UNKNOWN:ZNF'\n",
       "\\item 'ZBTB7'\n",
       "\\end{enumerate*}\n"
      ],
      "text/markdown": [
       "1. 'MAYBE:ZBTB7-ALT(tGGTGG)'\n",
       "2. 'MYT1L'\n",
       "3. 'MAYBE:ZNF692(tGG.CCCa)'\n",
       "4. 'NFY'\n",
       "5. 'SNAI'\n",
       "6. 'OTX'\n",
       "7. 'UNKNOWN(ATAT)'\n",
       "8. 'UNKNOWN(AT-RICH)'\n",
       "9. 'UNKNOWN(ttCTTga)'\n",
       "10. 'UNKNOWN:ZNF'\n",
       "11. 'ZBTB7'\n",
       "\n",
       "\n"
      ],
      "text/plain": [
       " [1] \"MAYBE:ZBTB7-ALT(tGGTGG)\" \"MYT1L\"                  \n",
       " [3] \"MAYBE:ZNF692(tGG.CCCa)\"  \"NFY\"                    \n",
       " [5] \"SNAI\"                    \"OTX\"                    \n",
       " [7] \"UNKNOWN(ATAT)\"           \"UNKNOWN(AT-RICH)\"       \n",
       " [9] \"UNKNOWN(ttCTTga)\"        \"UNKNOWN:ZNF\"            \n",
       "[11] \"ZBTB7\"                  "
      ]
     },
     "metadata": {},
     "output_type": "display_data"
    }
   ],
   "source": [
    "MOTIF_SUBSET[tf_order]"
   ]
  },
  {
   "cell_type": "code",
   "execution_count": 97,
   "metadata": {},
   "outputs": [
    {
     "data": {
      "text/html": [
       "<style>\n",
       ".list-inline {list-style: none; margin:0; padding: 0}\n",
       ".list-inline>li {display: inline-block}\n",
       ".list-inline>li:not(:last-child)::after {content: \"\\00b7\"; padding: 0 .5ex}\n",
       "</style>\n",
       "<ol class=list-inline><li>7</li><li>3</li><li>4</li><li>1</li><li>5</li><li>2</li><li>11</li><li>9</li><li>10</li><li>8</li><li>6</li></ol>\n"
      ],
      "text/latex": [
       "\\begin{enumerate*}\n",
       "\\item 7\n",
       "\\item 3\n",
       "\\item 4\n",
       "\\item 1\n",
       "\\item 5\n",
       "\\item 2\n",
       "\\item 11\n",
       "\\item 9\n",
       "\\item 10\n",
       "\\item 8\n",
       "\\item 6\n",
       "\\end{enumerate*}\n"
      ],
      "text/markdown": [
       "1. 7\n",
       "2. 3\n",
       "3. 4\n",
       "4. 1\n",
       "5. 5\n",
       "6. 2\n",
       "7. 11\n",
       "8. 9\n",
       "9. 10\n",
       "10. 8\n",
       "11. 6\n",
       "\n",
       "\n"
      ],
      "text/plain": [
       " [1]  7  3  4  1  5  2 11  9 10  8  6"
      ]
     },
     "metadata": {},
     "output_type": "display_data"
    }
   ],
   "source": [
    "tf_order"
   ]
  },
  {
   "cell_type": "code",
   "execution_count": 98,
   "metadata": {},
   "outputs": [
    {
     "data": {
      "text/html": [
       "11"
      ],
      "text/latex": [
       "11"
      ],
      "text/markdown": [
       "11"
      ],
      "text/plain": [
       "[1] 11"
      ]
     },
     "metadata": {},
     "output_type": "display_data"
    }
   ],
   "source": [
    "length(tf_order)"
   ]
  },
  {
   "cell_type": "code",
   "execution_count": 99,
   "metadata": {},
   "outputs": [
    {
     "data": {
      "text/html": [
       "<style>\n",
       ".list-inline {list-style: none; margin:0; padding: 0}\n",
       ".list-inline>li {display: inline-block}\n",
       ".list-inline>li:not(:last-child)::after {content: \"\\00b7\"; padding: 0 .5ex}\n",
       "</style>\n",
       "<ol class=list-inline><li>'MAYBE:ZBTB7-ALT(tGGTGG)'</li><li>'MYT1L'</li><li>'MAYBE:ZNF692(tGG.CCCa)'</li><li>'NFY'</li><li>'SNAI'</li><li>'OTX'</li><li>'UNKNOWN(ATAT)'</li><li>'UNKNOWN(AT-RICH)'</li><li>'UNKNOWN(ttCTTga)'</li><li>'UNKNOWN:ZNF'</li><li>'ZBTB7'</li></ol>\n"
      ],
      "text/latex": [
       "\\begin{enumerate*}\n",
       "\\item 'MAYBE:ZBTB7-ALT(tGGTGG)'\n",
       "\\item 'MYT1L'\n",
       "\\item 'MAYBE:ZNF692(tGG.CCCa)'\n",
       "\\item 'NFY'\n",
       "\\item 'SNAI'\n",
       "\\item 'OTX'\n",
       "\\item 'UNKNOWN(ATAT)'\n",
       "\\item 'UNKNOWN(AT-RICH)'\n",
       "\\item 'UNKNOWN(ttCTTga)'\n",
       "\\item 'UNKNOWN:ZNF'\n",
       "\\item 'ZBTB7'\n",
       "\\end{enumerate*}\n"
      ],
      "text/markdown": [
       "1. 'MAYBE:ZBTB7-ALT(tGGTGG)'\n",
       "2. 'MYT1L'\n",
       "3. 'MAYBE:ZNF692(tGG.CCCa)'\n",
       "4. 'NFY'\n",
       "5. 'SNAI'\n",
       "6. 'OTX'\n",
       "7. 'UNKNOWN(ATAT)'\n",
       "8. 'UNKNOWN(AT-RICH)'\n",
       "9. 'UNKNOWN(ttCTTga)'\n",
       "10. 'UNKNOWN:ZNF'\n",
       "11. 'ZBTB7'\n",
       "\n",
       "\n"
      ],
      "text/plain": [
       " [1] \"MAYBE:ZBTB7-ALT(tGGTGG)\" \"MYT1L\"                  \n",
       " [3] \"MAYBE:ZNF692(tGG.CCCa)\"  \"NFY\"                    \n",
       " [5] \"SNAI\"                    \"OTX\"                    \n",
       " [7] \"UNKNOWN(ATAT)\"           \"UNKNOWN(AT-RICH)\"       \n",
       " [9] \"UNKNOWN(ttCTTga)\"        \"UNKNOWN:ZNF\"            \n",
       "[11] \"ZBTB7\"                  "
      ]
     },
     "metadata": {},
     "output_type": "display_data"
    }
   ],
   "source": [
    "MOTIF_SUBSET[tf_order]"
   ]
  },
  {
   "cell_type": "code",
   "execution_count": 102,
   "metadata": {},
   "outputs": [
    {
     "data": {
      "image/png": "[encoded data removed]",
      "text/plain": [
       "plot without title"
      ]
     },
     "metadata": {
      "image/png": {
       "height": 360,
       "width": 480
      }
     },
     "output_type": "display_data"
    }
   ],
   "source": [
    "options(repr.plot.width = 8, repr.plot.height = 6)\n",
    "\n",
    "ggplot(plot_df_complete) +\n",
    "geom_tile(aes(x=factor(match_1, levels=MOTIF_SUBSET[tf_order]), y=factor(state, levels=STATE_ORDER), fill=frac)) +\n",
    "scale_fill_gradient(low=\"gray90\",\n",
    "                      high=\"violetred4\",\n",
    "                      limits=c(0.01, 0.3),\n",
    "                      oob=squish,\n",
    "                      trans='log10', \n",
    "                      name=\"Log10 fraction\",\n",
    "                   na.value = \"white\") +\n",
    "xlab(\"Motif\") +\n",
    "ylab(\"\") +\n",
    "theme_bw() +\n",
    "theme(axis.text.x = element_text(angle = 90, hjust=0.95), # rotate TF text\n",
    "      strip.background = element_blank(),\n",
    "      panel.grid.major = element_blank(),\n",
    "          text = element_text(size=15)) "
   ]
  },
  {
   "cell_type": "code",
   "execution_count": null,
   "metadata": {},
   "outputs": [],
   "source": []
  },
  {
   "cell_type": "code",
   "execution_count": 103,
   "metadata": {},
   "outputs": [],
   "source": [
    "ggsave(\"./figs/neg_motif_x_cell_state.pdf\", height=6, width=8, useDingbats=F)"
   ]
  },
  {
   "cell_type": "code",
   "execution_count": null,
   "metadata": {},
   "outputs": [],
   "source": []
  },
  {
   "cell_type": "code",
   "execution_count": null,
   "metadata": {},
   "outputs": [],
   "source": []
  }
 ],
 "metadata": {
  "kernelspec": {
   "display_name": "R",
   "language": "R",
   "name": "ir"
  },
  "language_info": {
   "codemirror_mode": "r",
   "file_extension": ".r",
   "mimetype": "text/x-r-source",
   "name": "R",
   "pygments_lexer": "r",
   "version": "4.1.1"
  }
 },
 "nbformat": 4,
 "nbformat_minor": 4
}
