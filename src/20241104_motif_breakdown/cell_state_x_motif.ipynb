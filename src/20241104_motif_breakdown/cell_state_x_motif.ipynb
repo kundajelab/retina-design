{
 "cells": [
  {
   "cell_type": "markdown",
   "metadata": {},
   "source": [
    "# Cell state x motif plot\n",
    "\n",
    "Plot showing which motifs were extracted from each cell type (for the curated motif set).\n",
    "\n",
    "Inputs:\n",
    "1. Cluster config\n",
    "2. One file per cell state with motif annotation and number of seqlets."
   ]
  },
  {
   "cell_type": "code",
   "execution_count": 1,
   "metadata": {},
   "outputs": [
    {
     "name": "stderr",
     "output_type": "stream",
     "text": [
      "\n",
      "Attaching package: ‘dplyr’\n",
      "\n",
      "\n",
      "The following objects are masked from ‘package:stats’:\n",
      "\n",
      "    filter, lag\n",
      "\n",
      "\n",
      "The following objects are masked from ‘package:base’:\n",
      "\n",
      "    intersect, setdiff, setequal, union\n",
      "\n",
      "\n"
     ]
    }
   ],
   "source": [
    "library(ggplot2)\n",
    "library(dplyr)\n",
    "library(scales)"
   ]
  },
  {
   "cell_type": "markdown",
   "metadata": {},
   "source": [
    "## Load inputs"
   ]
  },
  {
   "cell_type": "code",
   "execution_count": 2,
   "metadata": {},
   "outputs": [],
   "source": [
    "STATE_ORDER = rev(c(\"Rod\", \n",
    "                \"OFFconebipolar\", \n",
    "                \"Mullerglia\",\n",
    "                \"ONconebipolar\",\n",
    "                \"Rodbipolar\",\n",
    "                \"Cone\",\n",
    "                \"GABAamacrine\",\n",
    "                \"Horizontal\",\n",
    "                \"Glyamacrine\",\n",
    "                \"Retinalganglioncell\",\n",
    "                \"AIIamacrine\",\n",
    "                \"Astrocyte\",\n",
    "                \"Microglia\"))"
   ]
  },
  {
   "cell_type": "markdown",
   "metadata": {},
   "source": [
    "### Per cell state annotated MoDISco motifs"
   ]
  },
  {
   "cell_type": "code",
   "execution_count": 3,
   "metadata": {},
   "outputs": [
    {
     "data": {
      "text/html": [
       "<table class=\"dataframe\">\n",
       "<caption>A data.frame: 6 × 4</caption>\n",
       "<thead>\n",
       "\t<tr><th></th><th scope=col>Pattern</th><th scope=col>num_seqlets</th><th scope=col>match_1</th><th scope=col>q.value</th></tr>\n",
       "\t<tr><th></th><th scope=col>&lt;chr&gt;</th><th scope=col>&lt;int&gt;</th><th scope=col>&lt;chr&gt;</th><th scope=col>&lt;dbl&gt;</th></tr>\n",
       "</thead>\n",
       "<tbody>\n",
       "\t<tr><th scope=row>1</th><td>pattern_0</td><td>7396</td><td>CTCF      </td><td>0.00000e+00</td></tr>\n",
       "\t<tr><th scope=row>2</th><td>pattern_1</td><td>4759</td><td>OTX:-1:OTX</td><td>2.17350e-08</td></tr>\n",
       "\t<tr><th scope=row>3</th><td>pattern_2</td><td>4731</td><td>SP        </td><td>2.19711e-36</td></tr>\n",
       "\t<tr><th scope=row>4</th><td>pattern_3</td><td>3301</td><td>SPI       </td><td>8.70195e-30</td></tr>\n",
       "\t<tr><th scope=row>5</th><td>pattern_4</td><td>3129</td><td>NFY       </td><td>2.60128e-19</td></tr>\n",
       "\t<tr><th scope=row>6</th><td>pattern_5</td><td>3048</td><td>CREB      </td><td>5.46409e-20</td></tr>\n",
       "</tbody>\n",
       "</table>\n"
      ],
      "text/latex": [
       "A data.frame: 6 × 4\n",
       "\\begin{tabular}{r|llll}\n",
       "  & Pattern & num\\_seqlets & match\\_1 & q.value\\\\\n",
       "  & <chr> & <int> & <chr> & <dbl>\\\\\n",
       "\\hline\n",
       "\t1 & pattern\\_0 & 7396 & CTCF       & 0.00000e+00\\\\\n",
       "\t2 & pattern\\_1 & 4759 & OTX:-1:OTX & 2.17350e-08\\\\\n",
       "\t3 & pattern\\_2 & 4731 & SP         & 2.19711e-36\\\\\n",
       "\t4 & pattern\\_3 & 3301 & SPI        & 8.70195e-30\\\\\n",
       "\t5 & pattern\\_4 & 3129 & NFY        & 2.60128e-19\\\\\n",
       "\t6 & pattern\\_5 & 3048 & CREB       & 5.46409e-20\\\\\n",
       "\\end{tabular}\n"
      ],
      "text/markdown": [
       "\n",
       "A data.frame: 6 × 4\n",
       "\n",
       "| <!--/--> | Pattern &lt;chr&gt; | num_seqlets &lt;int&gt; | match_1 &lt;chr&gt; | q.value &lt;dbl&gt; |\n",
       "|---|---|---|---|---|\n",
       "| 1 | pattern_0 | 7396 | CTCF       | 0.00000e+00 |\n",
       "| 2 | pattern_1 | 4759 | OTX:-1:OTX | 2.17350e-08 |\n",
       "| 3 | pattern_2 | 4731 | SP         | 2.19711e-36 |\n",
       "| 4 | pattern_3 | 3301 | SPI        | 8.70195e-30 |\n",
       "| 5 | pattern_4 | 3129 | NFY        | 2.60128e-19 |\n",
       "| 6 | pattern_5 | 3048 | CREB       | 5.46409e-20 |\n",
       "\n"
      ],
      "text/plain": [
       "  Pattern   num_seqlets match_1    q.value    \n",
       "1 pattern_0 7396        CTCF       0.00000e+00\n",
       "2 pattern_1 4759        OTX:-1:OTX 2.17350e-08\n",
       "3 pattern_2 4731        SP         2.19711e-36\n",
       "4 pattern_3 3301        SPI        8.70195e-30\n",
       "5 pattern_4 3129        NFY        2.60128e-19\n",
       "6 pattern_5 3048        CREB       5.46409e-20"
      ]
     },
     "metadata": {},
     "output_type": "display_data"
    }
   ],
   "source": [
    "modisco_annotated = list()\n",
    "\n",
    "for (i in STATE_ORDER) {\n",
    "    modisco_annotated[[i]] = read.table(sprintf(\"./tomtom/%s.txt\", i), \n",
    "                                        sep='\\t', \n",
    "                                        header=T,\n",
    "                                       stringsAsFactors=F)\n",
    "    \n",
    "}\n",
    "\n",
    "head(modisco_annotated[[1]])"
   ]
  },
  {
   "cell_type": "markdown",
   "metadata": {},
   "source": [
    "## Plot\n",
    "\n",
    "Motifs with \":\" are dimers of 30 curated motifs, which can be ignored for now.\n",
    "\n",
    "Multiple patterns can match to the same motif."
   ]
  },
  {
   "cell_type": "code",
   "execution_count": 4,
   "metadata": {},
   "outputs": [],
   "source": [
    "QVAL = 0.05"
   ]
  },
  {
   "cell_type": "code",
   "execution_count": 5,
   "metadata": {},
   "outputs": [],
   "source": [
    "motif_names = c()\n",
    "\n",
    "for (i in STATE_ORDER) {\n",
    "    motif_names = c(motif_names , modisco_annotated[[i]]$match_1)\n",
    "}\n",
    "motif_names = rev(sort(table(motif_names)))"
   ]
  },
  {
   "cell_type": "code",
   "execution_count": 6,
   "metadata": {},
   "outputs": [
    {
     "data": {
      "text/plain": [
       "motif_names\n",
       "           NRF            PAX          ZNF76            ETS           CREB \n",
       "            25             23             19             19             15 \n",
       "           YY1             SP           CTCF            NFY          RFX/1 \n",
       "            14             14             14             13             12 \n",
       "            NR            NFI            MEF BHLH(CACGTGAC)     OTX:-1:OTX \n",
       "            12             12             12             12             11 \n",
       "          NFIL          KAISO   BHLH(CAGMTG)      OTX:2:OTX      OTX:4:OTX \n",
       "            11             10              8              7              6 \n",
       "     OTX:3:OTX           AP-1            OTX HOMEOBOX:TAAGC           TFAP \n",
       "             6              6              5              4              3 \n",
       "       SOX:SOX          RFX/2            LHX  HOMEOBOX:MEIS            SPI \n",
       "             3              3              3              3              2 \n",
       "     OTX:0:OTX         ONECUT            MAZ        LHX:LHX            ATF \n",
       "             2              2              2              2              2 \n",
       "        POU4F1      NFI(HALF)            EBF  BHLH(CAGCTGC) \n",
       "             1              1              1              1 "
      ]
     },
     "metadata": {},
     "output_type": "display_data"
    }
   ],
   "source": [
    "motif_names"
   ]
  },
  {
   "cell_type": "code",
   "execution_count": 7,
   "metadata": {},
   "outputs": [],
   "source": [
    "MOTIF_SUBSET = read.table(\"../20241103_motif_consolidation/tfs_final_w_rep.tsv\", stringsAsFactor=F)$V4"
   ]
  },
  {
   "cell_type": "code",
   "execution_count": 8,
   "metadata": {},
   "outputs": [],
   "source": [
    "filtered_modisco = list()\n",
    "\n",
    "for (i in STATE_ORDER) {\n",
    "    cur = modisco_annotated[[i]]\n",
    "    cur = cur[cur$q.value < QVAL, ]\n",
    "    cur$frac = cur$num_seqlets/sum(cur$num_seqlets)\n",
    "    cur = cur[cur$match_1 %in% MOTIF_SUBSET, c(\"frac\", \"match_1\")]\n",
    "    cur = cur %>% group_by(match_1) %>% summarize_all(sum)\n",
    "    cur$log10_frac = log10(cur$frac)\n",
    "    \n",
    "    filtered_modisco[[i]] = cur\n",
    "}"
   ]
  },
  {
   "cell_type": "code",
   "execution_count": 9,
   "metadata": {},
   "outputs": [],
   "source": [
    "plot_df = data.frame()\n",
    "\n",
    "for (i in STATE_ORDER) {\n",
    "    cur = filtered_modisco[[i]]\n",
    "    cur$state = i\n",
    "    \n",
    "    plot_df = rbind(plot_df, cur)\n",
    "}"
   ]
  },
  {
   "cell_type": "code",
   "execution_count": null,
   "metadata": {},
   "outputs": [],
   "source": []
  },
  {
   "cell_type": "code",
   "execution_count": 10,
   "metadata": {},
   "outputs": [
    {
     "data": {
      "image/png": "[encoded data removed]",
      "text/plain": [
       "plot without title"
      ]
     },
     "metadata": {
      "image/png": {
       "height": 360,
       "width": 720
      }
     },
     "output_type": "display_data"
    }
   ],
   "source": [
    "options(repr.plot.width = 12, repr.plot.height = 6)\n",
    "\n",
    "ggplot(plot_df) +\n",
    "geom_tile(aes(x=match_1, y=factor(state, levels=STATE_ORDER), fill=frac)) +\n",
    "scale_fill_gradient(low=\"gray90\",\n",
    "                      high=\"violetred4\",\n",
    "                      limits=c(0.01, 0.3),\n",
    "                      oob=squish,\n",
    "                      trans='log10', \n",
    "                      name=\"Log10 fraction\") +\n",
    "xlab(\"TF\") +\n",
    "ylab(\"\") +\n",
    "theme_bw() +\n",
    "theme(axis.text.x = element_text(angle = 90, hjust=0.95), # rotate TF text\n",
    "      strip.background = element_blank(),\n",
    "      panel.grid.major = element_blank(),\n",
    "          text = element_text(size=15)) "
   ]
  },
  {
   "cell_type": "code",
   "execution_count": null,
   "metadata": {},
   "outputs": [],
   "source": []
  },
  {
   "cell_type": "markdown",
   "metadata": {},
   "source": [
    "Order for TFs based on similarity"
   ]
  },
  {
   "cell_type": "code",
   "execution_count": 11,
   "metadata": {},
   "outputs": [
    {
     "data": {
      "text/html": [
       "<table class=\"dataframe\">\n",
       "<caption>A tibble: 6 × 4</caption>\n",
       "<thead>\n",
       "\t<tr><th scope=col>match_1</th><th scope=col>frac</th><th scope=col>log10_frac</th><th scope=col>state</th></tr>\n",
       "\t<tr><th scope=col>&lt;chr&gt;</th><th scope=col>&lt;dbl&gt;</th><th scope=col>&lt;dbl&gt;</th><th scope=col>&lt;chr&gt;</th></tr>\n",
       "</thead>\n",
       "<tbody>\n",
       "\t<tr><td>AP-1          </td><td>0.049122370</td><td>-1.3087207</td><td>Microglia</td></tr>\n",
       "\t<tr><td>ATF           </td><td>0.003485622</td><td>-2.4577197</td><td>Microglia</td></tr>\n",
       "\t<tr><td>BHLH(CACGTGAC)</td><td>0.037520229</td><td>-1.4257345</td><td>Microglia</td></tr>\n",
       "\t<tr><td>CREB          </td><td>0.075886966</td><td>-1.1198328</td><td>Microglia</td></tr>\n",
       "\t<tr><td>CTCF          </td><td>0.184140421</td><td>-0.7348509</td><td>Microglia</td></tr>\n",
       "\t<tr><td>ETS           </td><td>0.058583344</td><td>-1.2322258</td><td>Microglia</td></tr>\n",
       "</tbody>\n",
       "</table>\n"
      ],
      "text/latex": [
       "A tibble: 6 × 4\n",
       "\\begin{tabular}{llll}\n",
       " match\\_1 & frac & log10\\_frac & state\\\\\n",
       " <chr> & <dbl> & <dbl> & <chr>\\\\\n",
       "\\hline\n",
       "\t AP-1           & 0.049122370 & -1.3087207 & Microglia\\\\\n",
       "\t ATF            & 0.003485622 & -2.4577197 & Microglia\\\\\n",
       "\t BHLH(CACGTGAC) & 0.037520229 & -1.4257345 & Microglia\\\\\n",
       "\t CREB           & 0.075886966 & -1.1198328 & Microglia\\\\\n",
       "\t CTCF           & 0.184140421 & -0.7348509 & Microglia\\\\\n",
       "\t ETS            & 0.058583344 & -1.2322258 & Microglia\\\\\n",
       "\\end{tabular}\n"
      ],
      "text/markdown": [
       "\n",
       "A tibble: 6 × 4\n",
       "\n",
       "| match_1 &lt;chr&gt; | frac &lt;dbl&gt; | log10_frac &lt;dbl&gt; | state &lt;chr&gt; |\n",
       "|---|---|---|---|\n",
       "| AP-1           | 0.049122370 | -1.3087207 | Microglia |\n",
       "| ATF            | 0.003485622 | -2.4577197 | Microglia |\n",
       "| BHLH(CACGTGAC) | 0.037520229 | -1.4257345 | Microglia |\n",
       "| CREB           | 0.075886966 | -1.1198328 | Microglia |\n",
       "| CTCF           | 0.184140421 | -0.7348509 | Microglia |\n",
       "| ETS            | 0.058583344 | -1.2322258 | Microglia |\n",
       "\n"
      ],
      "text/plain": [
       "  match_1        frac        log10_frac state    \n",
       "1 AP-1           0.049122370 -1.3087207 Microglia\n",
       "2 ATF            0.003485622 -2.4577197 Microglia\n",
       "3 BHLH(CACGTGAC) 0.037520229 -1.4257345 Microglia\n",
       "4 CREB           0.075886966 -1.1198328 Microglia\n",
       "5 CTCF           0.184140421 -0.7348509 Microglia\n",
       "6 ETS            0.058583344 -1.2322258 Microglia"
      ]
     },
     "metadata": {},
     "output_type": "display_data"
    }
   ],
   "source": [
    "head(plot_df)"
   ]
  },
  {
   "cell_type": "code",
   "execution_count": null,
   "metadata": {},
   "outputs": [],
   "source": []
  },
  {
   "cell_type": "code",
   "execution_count": 12,
   "metadata": {},
   "outputs": [
    {
     "data": {
      "text/html": [
       "'AP-1'"
      ],
      "text/latex": [
       "'AP-1'"
      ],
      "text/markdown": [
       "'AP-1'"
      ],
      "text/plain": [
       "[1] \"AP-1\""
      ]
     },
     "metadata": {},
     "output_type": "display_data"
    }
   ],
   "source": [
    "plot_df[1, ]$match_1"
   ]
  },
  {
   "cell_type": "code",
   "execution_count": 13,
   "metadata": {},
   "outputs": [
    {
     "data": {
      "text/html": [],
      "text/latex": [],
      "text/markdown": [],
      "text/plain": [
       "integer(0)"
      ]
     },
     "metadata": {},
     "output_type": "display_data"
    }
   ],
   "source": [
    "which(MOTIF_SUBSET == plot_df[1, \"match_1\"])"
   ]
  },
  {
   "cell_type": "code",
   "execution_count": 14,
   "metadata": {},
   "outputs": [
    {
     "data": {
      "text/html": [
       "2"
      ],
      "text/latex": [
       "2"
      ],
      "text/markdown": [
       "2"
      ],
      "text/plain": [
       "[1] 2"
      ]
     },
     "metadata": {},
     "output_type": "display_data"
    }
   ],
   "source": [
    "which(MOTIF_SUBSET == \"CTCF\")"
   ]
  },
  {
   "cell_type": "code",
   "execution_count": 15,
   "metadata": {},
   "outputs": [
    {
     "data": {
      "text/html": [
       "<table class=\"dataframe\">\n",
       "<caption>A tibble: 1 × 4</caption>\n",
       "<thead>\n",
       "\t<tr><th scope=col>match_1</th><th scope=col>frac</th><th scope=col>log10_frac</th><th scope=col>state</th></tr>\n",
       "\t<tr><th scope=col>&lt;chr&gt;</th><th scope=col>&lt;dbl&gt;</th><th scope=col>&lt;dbl&gt;</th><th scope=col>&lt;chr&gt;</th></tr>\n",
       "</thead>\n",
       "<tbody>\n",
       "\t<tr><td>BHLH(CACGTGAC)</td><td>0.03752023</td><td>-1.425735</td><td>Microglia</td></tr>\n",
       "</tbody>\n",
       "</table>\n"
      ],
      "text/latex": [
       "A tibble: 1 × 4\n",
       "\\begin{tabular}{llll}\n",
       " match\\_1 & frac & log10\\_frac & state\\\\\n",
       " <chr> & <dbl> & <dbl> & <chr>\\\\\n",
       "\\hline\n",
       "\t BHLH(CACGTGAC) & 0.03752023 & -1.425735 & Microglia\\\\\n",
       "\\end{tabular}\n"
      ],
      "text/markdown": [
       "\n",
       "A tibble: 1 × 4\n",
       "\n",
       "| match_1 &lt;chr&gt; | frac &lt;dbl&gt; | log10_frac &lt;dbl&gt; | state &lt;chr&gt; |\n",
       "|---|---|---|---|\n",
       "| BHLH(CACGTGAC) | 0.03752023 | -1.425735 | Microglia |\n",
       "\n"
      ],
      "text/plain": [
       "  match_1        frac       log10_frac state    \n",
       "1 BHLH(CACGTGAC) 0.03752023 -1.425735  Microglia"
      ]
     },
     "metadata": {},
     "output_type": "display_data"
    }
   ],
   "source": [
    "plot_df[3, ]"
   ]
  },
  {
   "cell_type": "code",
   "execution_count": 16,
   "metadata": {},
   "outputs": [],
   "source": [
    "log10_matrix = matrix(1, length(MOTIF_SUBSET), length(STATE_ORDER))\n",
    "\n",
    "log10_matrix = (min(plot_df$log10_frac) - 1)*log10_matrix\n",
    "\n",
    "for (i in seq(nrow(plot_df))) {\n",
    "    log10_matrix[which(MOTIF_SUBSET == plot_df[i, ]$match_1), as.numeric(factor(plot_df[i,]$state, levels=STATE_ORDER))] = plot_df[i,]$log10_frac\n",
    "}\n",
    "\n",
    "log10_matrix = t(log10_matrix)\n",
    "\n",
    "# will use this for re-ordering on membership matrix"
   ]
  },
  {
   "cell_type": "code",
   "execution_count": 17,
   "metadata": {},
   "outputs": [],
   "source": [
    "membership_matrix = matrix(0, length(MOTIF_SUBSET), length(STATE_ORDER))\n",
    "\n",
    "for (i in seq(nrow(plot_df))) {\n",
    "    membership_matrix[which(MOTIF_SUBSET == plot_df[i, ]$match_1), as.numeric(factor(plot_df[i,]$state, levels=STATE_ORDER))] = 1 \n",
    "}\n",
    "\n",
    "membership_matrix = t(membership_matrix)"
   ]
  },
  {
   "cell_type": "code",
   "execution_count": 18,
   "metadata": {},
   "outputs": [],
   "source": [
    "tf_hclust = hclust(dist(t(membership_matrix), method = \"euclidean\"), method = \"ward.D\") # trying to order by membership\n",
    "tf_dendro = as.dendrogram(tf_hclust)\n",
    "# tf_dendro = reorder(tf_dendro, colSums(log10_matrix* seq(1,length(MOTIF_SUBSET)))/colSums(log10_matrix))\n",
    "tf_dendro = reorder(tf_dendro, colSums(membership_matrix))\n",
    "tf_order = as.hclust(tf_dendro)$order"
   ]
  },
  {
   "cell_type": "code",
   "execution_count": null,
   "metadata": {},
   "outputs": [],
   "source": []
  },
  {
   "cell_type": "code",
   "execution_count": 19,
   "metadata": {},
   "outputs": [
    {
     "data": {
      "text/html": [
       "<style>\n",
       ".list-inline {list-style: none; margin:0; padding: 0}\n",
       ".list-inline>li {display: inline-block}\n",
       ".list-inline>li:not(:last-child)::after {content: \"\\00b7\"; padding: 0 .5ex}\n",
       "</style>\n",
       "<ol class=list-inline><li>22</li><li>25</li><li>29</li><li>39</li><li>31</li><li>34</li><li>7</li><li>11</li><li>30</li><li>3</li><li>27</li><li>13</li><li>23</li><li>18</li><li>8</li><li>35</li><li>28</li><li>12</li><li>36</li><li>32</li><li>37</li><li>14</li><li>38</li><li>26</li><li>33</li><li>24</li><li>5</li><li>20</li><li>16</li><li>6</li><li>10</li><li>21</li><li>19</li><li>17</li><li>15</li><li>9</li><li>4</li><li>1</li><li>2</li></ol>\n"
      ],
      "text/latex": [
       "\\begin{enumerate*}\n",
       "\\item 22\n",
       "\\item 25\n",
       "\\item 29\n",
       "\\item 39\n",
       "\\item 31\n",
       "\\item 34\n",
       "\\item 7\n",
       "\\item 11\n",
       "\\item 30\n",
       "\\item 3\n",
       "\\item 27\n",
       "\\item 13\n",
       "\\item 23\n",
       "\\item 18\n",
       "\\item 8\n",
       "\\item 35\n",
       "\\item 28\n",
       "\\item 12\n",
       "\\item 36\n",
       "\\item 32\n",
       "\\item 37\n",
       "\\item 14\n",
       "\\item 38\n",
       "\\item 26\n",
       "\\item 33\n",
       "\\item 24\n",
       "\\item 5\n",
       "\\item 20\n",
       "\\item 16\n",
       "\\item 6\n",
       "\\item 10\n",
       "\\item 21\n",
       "\\item 19\n",
       "\\item 17\n",
       "\\item 15\n",
       "\\item 9\n",
       "\\item 4\n",
       "\\item 1\n",
       "\\item 2\n",
       "\\end{enumerate*}\n"
      ],
      "text/markdown": [
       "1. 22\n",
       "2. 25\n",
       "3. 29\n",
       "4. 39\n",
       "5. 31\n",
       "6. 34\n",
       "7. 7\n",
       "8. 11\n",
       "9. 30\n",
       "10. 3\n",
       "11. 27\n",
       "12. 13\n",
       "13. 23\n",
       "14. 18\n",
       "15. 8\n",
       "16. 35\n",
       "17. 28\n",
       "18. 12\n",
       "19. 36\n",
       "20. 32\n",
       "21. 37\n",
       "22. 14\n",
       "23. 38\n",
       "24. 26\n",
       "25. 33\n",
       "26. 24\n",
       "27. 5\n",
       "28. 20\n",
       "29. 16\n",
       "30. 6\n",
       "31. 10\n",
       "32. 21\n",
       "33. 19\n",
       "34. 17\n",
       "35. 15\n",
       "36. 9\n",
       "37. 4\n",
       "38. 1\n",
       "39. 2\n",
       "\n",
       "\n"
      ],
      "text/plain": [
       " [1] 22 25 29 39 31 34  7 11 30  3 27 13 23 18  8 35 28 12 36 32 37 14 38 26 33\n",
       "[26] 24  5 20 16  6 10 21 19 17 15  9  4  1  2"
      ]
     },
     "metadata": {},
     "output_type": "display_data"
    }
   ],
   "source": [
    "tf_order"
   ]
  },
  {
   "cell_type": "code",
   "execution_count": 20,
   "metadata": {},
   "outputs": [
    {
     "data": {
      "text/html": [
       "<style>\n",
       ".list-inline {list-style: none; margin:0; padding: 0}\n",
       ".list-inline>li {display: inline-block}\n",
       ".list-inline>li:not(:last-child)::after {content: \"\\00b7\"; padding: 0 .5ex}\n",
       "</style>\n",
       "<ol class=list-inline><li>'EBF'</li><li>'POU4F1'</li><li>'BHLH(CAGCTGC)'</li><li>'HOMEOBOX:MEIS'</li><li>'ONECUT'</li><li>'NFI(HALF)'</li><li>'SPI'</li><li>'ATF'</li><li>'LHX:LHX'</li><li>'SOX:SOX'</li><li>'LHX'</li><li>'AP-1'</li><li>'TFAP'</li><li>'RFX/2'</li><li>'PAX'</li><li>'OTX:4:OTX'</li><li>'OTX:-1:OTX'</li><li>'MAZ'</li><li>'OTX:0:OTX'</li><li>'OTX:3:OTX'</li><li>'OTX:2:OTX'</li><li>'BHLH(CAGMTG)'</li><li>'HOMEOBOX:TAAGC'</li><li>'OTX'</li><li>'NFIL'</li><li>'NR'</li><li>'MEF'</li><li>'KAISO'</li><li>'BHLH(CACGTGAC)'</li><li>'RFX/1'</li><li>'NFI'</li><li>'NRF'</li><li>'ETS'</li><li>'CREB'</li><li>'YY1'</li><li>'SP'</li><li>'NFY'</li><li>'ZNF76'</li><li>'CTCF'</li></ol>\n"
      ],
      "text/latex": [
       "\\begin{enumerate*}\n",
       "\\item 'EBF'\n",
       "\\item 'POU4F1'\n",
       "\\item 'BHLH(CAGCTGC)'\n",
       "\\item 'HOMEOBOX:MEIS'\n",
       "\\item 'ONECUT'\n",
       "\\item 'NFI(HALF)'\n",
       "\\item 'SPI'\n",
       "\\item 'ATF'\n",
       "\\item 'LHX:LHX'\n",
       "\\item 'SOX:SOX'\n",
       "\\item 'LHX'\n",
       "\\item 'AP-1'\n",
       "\\item 'TFAP'\n",
       "\\item 'RFX/2'\n",
       "\\item 'PAX'\n",
       "\\item 'OTX:4:OTX'\n",
       "\\item 'OTX:-1:OTX'\n",
       "\\item 'MAZ'\n",
       "\\item 'OTX:0:OTX'\n",
       "\\item 'OTX:3:OTX'\n",
       "\\item 'OTX:2:OTX'\n",
       "\\item 'BHLH(CAGMTG)'\n",
       "\\item 'HOMEOBOX:TAAGC'\n",
       "\\item 'OTX'\n",
       "\\item 'NFIL'\n",
       "\\item 'NR'\n",
       "\\item 'MEF'\n",
       "\\item 'KAISO'\n",
       "\\item 'BHLH(CACGTGAC)'\n",
       "\\item 'RFX/1'\n",
       "\\item 'NFI'\n",
       "\\item 'NRF'\n",
       "\\item 'ETS'\n",
       "\\item 'CREB'\n",
       "\\item 'YY1'\n",
       "\\item 'SP'\n",
       "\\item 'NFY'\n",
       "\\item 'ZNF76'\n",
       "\\item 'CTCF'\n",
       "\\end{enumerate*}\n"
      ],
      "text/markdown": [
       "1. 'EBF'\n",
       "2. 'POU4F1'\n",
       "3. 'BHLH(CAGCTGC)'\n",
       "4. 'HOMEOBOX:MEIS'\n",
       "5. 'ONECUT'\n",
       "6. 'NFI(HALF)'\n",
       "7. 'SPI'\n",
       "8. 'ATF'\n",
       "9. 'LHX:LHX'\n",
       "10. 'SOX:SOX'\n",
       "11. 'LHX'\n",
       "12. 'AP-1'\n",
       "13. 'TFAP'\n",
       "14. 'RFX/2'\n",
       "15. 'PAX'\n",
       "16. 'OTX:4:OTX'\n",
       "17. 'OTX:-1:OTX'\n",
       "18. 'MAZ'\n",
       "19. 'OTX:0:OTX'\n",
       "20. 'OTX:3:OTX'\n",
       "21. 'OTX:2:OTX'\n",
       "22. 'BHLH(CAGMTG)'\n",
       "23. 'HOMEOBOX:TAAGC'\n",
       "24. 'OTX'\n",
       "25. 'NFIL'\n",
       "26. 'NR'\n",
       "27. 'MEF'\n",
       "28. 'KAISO'\n",
       "29. 'BHLH(CACGTGAC)'\n",
       "30. 'RFX/1'\n",
       "31. 'NFI'\n",
       "32. 'NRF'\n",
       "33. 'ETS'\n",
       "34. 'CREB'\n",
       "35. 'YY1'\n",
       "36. 'SP'\n",
       "37. 'NFY'\n",
       "38. 'ZNF76'\n",
       "39. 'CTCF'\n",
       "\n",
       "\n"
      ],
      "text/plain": [
       " [1] \"EBF\"            \"POU4F1\"         \"BHLH(CAGCTGC)\"  \"HOMEOBOX:MEIS\" \n",
       " [5] \"ONECUT\"         \"NFI(HALF)\"      \"SPI\"            \"ATF\"           \n",
       " [9] \"LHX:LHX\"        \"SOX:SOX\"        \"LHX\"            \"AP-1\"          \n",
       "[13] \"TFAP\"           \"RFX/2\"          \"PAX\"            \"OTX:4:OTX\"     \n",
       "[17] \"OTX:-1:OTX\"     \"MAZ\"            \"OTX:0:OTX\"      \"OTX:3:OTX\"     \n",
       "[21] \"OTX:2:OTX\"      \"BHLH(CAGMTG)\"   \"HOMEOBOX:TAAGC\" \"OTX\"           \n",
       "[25] \"NFIL\"           \"NR\"             \"MEF\"            \"KAISO\"         \n",
       "[29] \"BHLH(CACGTGAC)\" \"RFX/1\"          \"NFI\"            \"NRF\"           \n",
       "[33] \"ETS\"            \"CREB\"           \"YY1\"            \"SP\"            \n",
       "[37] \"NFY\"            \"ZNF76\"          \"CTCF\"          "
      ]
     },
     "metadata": {},
     "output_type": "display_data"
    }
   ],
   "source": [
    "MOTIF_SUBSET[tf_order]"
   ]
  },
  {
   "cell_type": "code",
   "execution_count": 21,
   "metadata": {},
   "outputs": [],
   "source": [
    "# manual adjustements\n",
    "# move OTX:OTX together \n",
    "# bring TFAP2 before SPI (since it's exclusive)"
   ]
  },
  {
   "cell_type": "code",
   "execution_count": 22,
   "metadata": {},
   "outputs": [
    {
     "data": {
      "text/html": [
       "39"
      ],
      "text/latex": [
       "39"
      ],
      "text/markdown": [
       "39"
      ],
      "text/plain": [
       "[1] 39"
      ]
     },
     "metadata": {},
     "output_type": "display_data"
    }
   ],
   "source": [
    "length(tf_order)"
   ]
  },
  {
   "cell_type": "code",
   "execution_count": 23,
   "metadata": {},
   "outputs": [],
   "source": [
    "# tf_order = tf_order[c(c(1,3,4,5,2), 6:9, 17, 10:16, 18:29)]"
   ]
  },
  {
   "cell_type": "code",
   "execution_count": 25,
   "metadata": {},
   "outputs": [
    {
     "data": {
      "text/html": [
       "<style>\n",
       ".list-inline {list-style: none; margin:0; padding: 0}\n",
       ".list-inline>li {display: inline-block}\n",
       ".list-inline>li:not(:last-child)::after {content: \"\\00b7\"; padding: 0 .5ex}\n",
       "</style>\n",
       "<ol class=list-inline><li>'EBF'</li><li>'POU4F1'</li><li>'BHLH(CAGCTGC)'</li><li>'HOMEOBOX:MEIS'</li><li>'ONECUT'</li><li>'NFI(HALF)'</li><li>'SPI'</li><li>'ATF'</li><li>'LHX:LHX'</li><li>'SOX:SOX'</li><li>'LHX'</li><li>'AP-1'</li><li>'TFAP'</li><li>'RFX/2'</li><li>'PAX'</li><li>'OTX:4:OTX'</li><li>'OTX:-1:OTX'</li><li>'MAZ'</li><li>'OTX:0:OTX'</li><li>'OTX:3:OTX'</li><li>'OTX:2:OTX'</li><li>'BHLH(CAGMTG)'</li><li>'HOMEOBOX:TAAGC'</li><li>'OTX'</li><li>'NFIL'</li><li>'NR'</li><li>'MEF'</li><li>'KAISO'</li><li>'BHLH(CACGTGAC)'</li><li>'RFX/1'</li><li>'NFI'</li><li>'NRF'</li><li>'ETS'</li><li>'CREB'</li><li>'YY1'</li><li>'SP'</li><li>'NFY'</li><li>'ZNF76'</li><li>'CTCF'</li></ol>\n"
      ],
      "text/latex": [
       "\\begin{enumerate*}\n",
       "\\item 'EBF'\n",
       "\\item 'POU4F1'\n",
       "\\item 'BHLH(CAGCTGC)'\n",
       "\\item 'HOMEOBOX:MEIS'\n",
       "\\item 'ONECUT'\n",
       "\\item 'NFI(HALF)'\n",
       "\\item 'SPI'\n",
       "\\item 'ATF'\n",
       "\\item 'LHX:LHX'\n",
       "\\item 'SOX:SOX'\n",
       "\\item 'LHX'\n",
       "\\item 'AP-1'\n",
       "\\item 'TFAP'\n",
       "\\item 'RFX/2'\n",
       "\\item 'PAX'\n",
       "\\item 'OTX:4:OTX'\n",
       "\\item 'OTX:-1:OTX'\n",
       "\\item 'MAZ'\n",
       "\\item 'OTX:0:OTX'\n",
       "\\item 'OTX:3:OTX'\n",
       "\\item 'OTX:2:OTX'\n",
       "\\item 'BHLH(CAGMTG)'\n",
       "\\item 'HOMEOBOX:TAAGC'\n",
       "\\item 'OTX'\n",
       "\\item 'NFIL'\n",
       "\\item 'NR'\n",
       "\\item 'MEF'\n",
       "\\item 'KAISO'\n",
       "\\item 'BHLH(CACGTGAC)'\n",
       "\\item 'RFX/1'\n",
       "\\item 'NFI'\n",
       "\\item 'NRF'\n",
       "\\item 'ETS'\n",
       "\\item 'CREB'\n",
       "\\item 'YY1'\n",
       "\\item 'SP'\n",
       "\\item 'NFY'\n",
       "\\item 'ZNF76'\n",
       "\\item 'CTCF'\n",
       "\\end{enumerate*}\n"
      ],
      "text/markdown": [
       "1. 'EBF'\n",
       "2. 'POU4F1'\n",
       "3. 'BHLH(CAGCTGC)'\n",
       "4. 'HOMEOBOX:MEIS'\n",
       "5. 'ONECUT'\n",
       "6. 'NFI(HALF)'\n",
       "7. 'SPI'\n",
       "8. 'ATF'\n",
       "9. 'LHX:LHX'\n",
       "10. 'SOX:SOX'\n",
       "11. 'LHX'\n",
       "12. 'AP-1'\n",
       "13. 'TFAP'\n",
       "14. 'RFX/2'\n",
       "15. 'PAX'\n",
       "16. 'OTX:4:OTX'\n",
       "17. 'OTX:-1:OTX'\n",
       "18. 'MAZ'\n",
       "19. 'OTX:0:OTX'\n",
       "20. 'OTX:3:OTX'\n",
       "21. 'OTX:2:OTX'\n",
       "22. 'BHLH(CAGMTG)'\n",
       "23. 'HOMEOBOX:TAAGC'\n",
       "24. 'OTX'\n",
       "25. 'NFIL'\n",
       "26. 'NR'\n",
       "27. 'MEF'\n",
       "28. 'KAISO'\n",
       "29. 'BHLH(CACGTGAC)'\n",
       "30. 'RFX/1'\n",
       "31. 'NFI'\n",
       "32. 'NRF'\n",
       "33. 'ETS'\n",
       "34. 'CREB'\n",
       "35. 'YY1'\n",
       "36. 'SP'\n",
       "37. 'NFY'\n",
       "38. 'ZNF76'\n",
       "39. 'CTCF'\n",
       "\n",
       "\n"
      ],
      "text/plain": [
       " [1] \"EBF\"            \"POU4F1\"         \"BHLH(CAGCTGC)\"  \"HOMEOBOX:MEIS\" \n",
       " [5] \"ONECUT\"         \"NFI(HALF)\"      \"SPI\"            \"ATF\"           \n",
       " [9] \"LHX:LHX\"        \"SOX:SOX\"        \"LHX\"            \"AP-1\"          \n",
       "[13] \"TFAP\"           \"RFX/2\"          \"PAX\"            \"OTX:4:OTX\"     \n",
       "[17] \"OTX:-1:OTX\"     \"MAZ\"            \"OTX:0:OTX\"      \"OTX:3:OTX\"     \n",
       "[21] \"OTX:2:OTX\"      \"BHLH(CAGMTG)\"   \"HOMEOBOX:TAAGC\" \"OTX\"           \n",
       "[25] \"NFIL\"           \"NR\"             \"MEF\"            \"KAISO\"         \n",
       "[29] \"BHLH(CACGTGAC)\" \"RFX/1\"          \"NFI\"            \"NRF\"           \n",
       "[33] \"ETS\"            \"CREB\"           \"YY1\"            \"SP\"            \n",
       "[37] \"NFY\"            \"ZNF76\"          \"CTCF\"          "
      ]
     },
     "metadata": {},
     "output_type": "display_data"
    }
   ],
   "source": [
    "MOTIF_SUBSET[tf_order]"
   ]
  },
  {
   "cell_type": "code",
   "execution_count": 26,
   "metadata": {},
   "outputs": [
    {
     "data": {
      "text/html": [
       "<style>\n",
       ".list-inline {list-style: none; margin:0; padding: 0}\n",
       ".list-inline>li {display: inline-block}\n",
       ".list-inline>li:not(:last-child)::after {content: \"\\00b7\"; padding: 0 .5ex}\n",
       "</style>\n",
       "<ol class=list-inline><li>22</li><li>25</li><li>29</li><li>39</li><li>31</li><li>34</li><li>7</li><li>11</li><li>30</li><li>3</li><li>27</li><li>13</li><li>23</li><li>18</li><li>8</li><li>35</li><li>28</li><li>12</li><li>36</li><li>32</li><li>37</li><li>14</li><li>38</li><li>26</li><li>33</li><li>24</li><li>5</li><li>20</li><li>16</li><li>6</li><li>10</li><li>21</li><li>19</li><li>17</li><li>15</li><li>9</li><li>4</li><li>1</li><li>2</li></ol>\n"
      ],
      "text/latex": [
       "\\begin{enumerate*}\n",
       "\\item 22\n",
       "\\item 25\n",
       "\\item 29\n",
       "\\item 39\n",
       "\\item 31\n",
       "\\item 34\n",
       "\\item 7\n",
       "\\item 11\n",
       "\\item 30\n",
       "\\item 3\n",
       "\\item 27\n",
       "\\item 13\n",
       "\\item 23\n",
       "\\item 18\n",
       "\\item 8\n",
       "\\item 35\n",
       "\\item 28\n",
       "\\item 12\n",
       "\\item 36\n",
       "\\item 32\n",
       "\\item 37\n",
       "\\item 14\n",
       "\\item 38\n",
       "\\item 26\n",
       "\\item 33\n",
       "\\item 24\n",
       "\\item 5\n",
       "\\item 20\n",
       "\\item 16\n",
       "\\item 6\n",
       "\\item 10\n",
       "\\item 21\n",
       "\\item 19\n",
       "\\item 17\n",
       "\\item 15\n",
       "\\item 9\n",
       "\\item 4\n",
       "\\item 1\n",
       "\\item 2\n",
       "\\end{enumerate*}\n"
      ],
      "text/markdown": [
       "1. 22\n",
       "2. 25\n",
       "3. 29\n",
       "4. 39\n",
       "5. 31\n",
       "6. 34\n",
       "7. 7\n",
       "8. 11\n",
       "9. 30\n",
       "10. 3\n",
       "11. 27\n",
       "12. 13\n",
       "13. 23\n",
       "14. 18\n",
       "15. 8\n",
       "16. 35\n",
       "17. 28\n",
       "18. 12\n",
       "19. 36\n",
       "20. 32\n",
       "21. 37\n",
       "22. 14\n",
       "23. 38\n",
       "24. 26\n",
       "25. 33\n",
       "26. 24\n",
       "27. 5\n",
       "28. 20\n",
       "29. 16\n",
       "30. 6\n",
       "31. 10\n",
       "32. 21\n",
       "33. 19\n",
       "34. 17\n",
       "35. 15\n",
       "36. 9\n",
       "37. 4\n",
       "38. 1\n",
       "39. 2\n",
       "\n",
       "\n"
      ],
      "text/plain": [
       " [1] 22 25 29 39 31 34  7 11 30  3 27 13 23 18  8 35 28 12 36 32 37 14 38 26 33\n",
       "[26] 24  5 20 16  6 10 21 19 17 15  9  4  1  2"
      ]
     },
     "metadata": {},
     "output_type": "display_data"
    }
   ],
   "source": [
    "tf_order"
   ]
  },
  {
   "cell_type": "code",
   "execution_count": 27,
   "metadata": {},
   "outputs": [
    {
     "data": {
      "text/html": [
       "39"
      ],
      "text/latex": [
       "39"
      ],
      "text/markdown": [
       "39"
      ],
      "text/plain": [
       "[1] 39"
      ]
     },
     "metadata": {},
     "output_type": "display_data"
    }
   ],
   "source": [
    "length(tf_order)"
   ]
  },
  {
   "cell_type": "code",
   "execution_count": 28,
   "metadata": {},
   "outputs": [
    {
     "data": {
      "text/html": [
       "<style>\n",
       ".list-inline {list-style: none; margin:0; padding: 0}\n",
       ".list-inline>li {display: inline-block}\n",
       ".list-inline>li:not(:last-child)::after {content: \"\\00b7\"; padding: 0 .5ex}\n",
       "</style>\n",
       "<ol class=list-inline><li>'EBF'</li><li>'POU4F1'</li><li>'BHLH(CAGCTGC)'</li><li>'HOMEOBOX:MEIS'</li><li>'ONECUT'</li><li>'NFI(HALF)'</li><li>'SPI'</li><li>'ATF'</li><li>'LHX:LHX'</li><li>'SOX:SOX'</li><li>'LHX'</li><li>'AP-1'</li><li>'TFAP'</li><li>'RFX/2'</li><li>'PAX'</li><li>'OTX:4:OTX'</li><li>'OTX:-1:OTX'</li><li>'MAZ'</li><li>'OTX:0:OTX'</li><li>'OTX:3:OTX'</li><li>'OTX:2:OTX'</li><li>'BHLH(CAGMTG)'</li><li>'HOMEOBOX:TAAGC'</li><li>'OTX'</li><li>'NFIL'</li><li>'NR'</li><li>'MEF'</li><li>'KAISO'</li><li>'BHLH(CACGTGAC)'</li><li>'RFX/1'</li><li>'NFI'</li><li>'NRF'</li><li>'ETS'</li><li>'CREB'</li><li>'YY1'</li><li>'SP'</li><li>'NFY'</li><li>'ZNF76'</li><li>'CTCF'</li></ol>\n"
      ],
      "text/latex": [
       "\\begin{enumerate*}\n",
       "\\item 'EBF'\n",
       "\\item 'POU4F1'\n",
       "\\item 'BHLH(CAGCTGC)'\n",
       "\\item 'HOMEOBOX:MEIS'\n",
       "\\item 'ONECUT'\n",
       "\\item 'NFI(HALF)'\n",
       "\\item 'SPI'\n",
       "\\item 'ATF'\n",
       "\\item 'LHX:LHX'\n",
       "\\item 'SOX:SOX'\n",
       "\\item 'LHX'\n",
       "\\item 'AP-1'\n",
       "\\item 'TFAP'\n",
       "\\item 'RFX/2'\n",
       "\\item 'PAX'\n",
       "\\item 'OTX:4:OTX'\n",
       "\\item 'OTX:-1:OTX'\n",
       "\\item 'MAZ'\n",
       "\\item 'OTX:0:OTX'\n",
       "\\item 'OTX:3:OTX'\n",
       "\\item 'OTX:2:OTX'\n",
       "\\item 'BHLH(CAGMTG)'\n",
       "\\item 'HOMEOBOX:TAAGC'\n",
       "\\item 'OTX'\n",
       "\\item 'NFIL'\n",
       "\\item 'NR'\n",
       "\\item 'MEF'\n",
       "\\item 'KAISO'\n",
       "\\item 'BHLH(CACGTGAC)'\n",
       "\\item 'RFX/1'\n",
       "\\item 'NFI'\n",
       "\\item 'NRF'\n",
       "\\item 'ETS'\n",
       "\\item 'CREB'\n",
       "\\item 'YY1'\n",
       "\\item 'SP'\n",
       "\\item 'NFY'\n",
       "\\item 'ZNF76'\n",
       "\\item 'CTCF'\n",
       "\\end{enumerate*}\n"
      ],
      "text/markdown": [
       "1. 'EBF'\n",
       "2. 'POU4F1'\n",
       "3. 'BHLH(CAGCTGC)'\n",
       "4. 'HOMEOBOX:MEIS'\n",
       "5. 'ONECUT'\n",
       "6. 'NFI(HALF)'\n",
       "7. 'SPI'\n",
       "8. 'ATF'\n",
       "9. 'LHX:LHX'\n",
       "10. 'SOX:SOX'\n",
       "11. 'LHX'\n",
       "12. 'AP-1'\n",
       "13. 'TFAP'\n",
       "14. 'RFX/2'\n",
       "15. 'PAX'\n",
       "16. 'OTX:4:OTX'\n",
       "17. 'OTX:-1:OTX'\n",
       "18. 'MAZ'\n",
       "19. 'OTX:0:OTX'\n",
       "20. 'OTX:3:OTX'\n",
       "21. 'OTX:2:OTX'\n",
       "22. 'BHLH(CAGMTG)'\n",
       "23. 'HOMEOBOX:TAAGC'\n",
       "24. 'OTX'\n",
       "25. 'NFIL'\n",
       "26. 'NR'\n",
       "27. 'MEF'\n",
       "28. 'KAISO'\n",
       "29. 'BHLH(CACGTGAC)'\n",
       "30. 'RFX/1'\n",
       "31. 'NFI'\n",
       "32. 'NRF'\n",
       "33. 'ETS'\n",
       "34. 'CREB'\n",
       "35. 'YY1'\n",
       "36. 'SP'\n",
       "37. 'NFY'\n",
       "38. 'ZNF76'\n",
       "39. 'CTCF'\n",
       "\n",
       "\n"
      ],
      "text/plain": [
       " [1] \"EBF\"            \"POU4F1\"         \"BHLH(CAGCTGC)\"  \"HOMEOBOX:MEIS\" \n",
       " [5] \"ONECUT\"         \"NFI(HALF)\"      \"SPI\"            \"ATF\"           \n",
       " [9] \"LHX:LHX\"        \"SOX:SOX\"        \"LHX\"            \"AP-1\"          \n",
       "[13] \"TFAP\"           \"RFX/2\"          \"PAX\"            \"OTX:4:OTX\"     \n",
       "[17] \"OTX:-1:OTX\"     \"MAZ\"            \"OTX:0:OTX\"      \"OTX:3:OTX\"     \n",
       "[21] \"OTX:2:OTX\"      \"BHLH(CAGMTG)\"   \"HOMEOBOX:TAAGC\" \"OTX\"           \n",
       "[25] \"NFIL\"           \"NR\"             \"MEF\"            \"KAISO\"         \n",
       "[29] \"BHLH(CACGTGAC)\" \"RFX/1\"          \"NFI\"            \"NRF\"           \n",
       "[33] \"ETS\"            \"CREB\"           \"YY1\"            \"SP\"            \n",
       "[37] \"NFY\"            \"ZNF76\"          \"CTCF\"          "
      ]
     },
     "metadata": {},
     "output_type": "display_data"
    }
   ],
   "source": [
    "MOTIF_SUBSET[tf_order]"
   ]
  },
  {
   "cell_type": "code",
   "execution_count": 29,
   "metadata": {},
   "outputs": [
    {
     "data": {
      "image/png": "[encoded data removed]",
      "text/plain": [
       "plot without title"
      ]
     },
     "metadata": {
      "image/png": {
       "height": 360,
       "width": 720
      }
     },
     "output_type": "display_data"
    }
   ],
   "source": [
    "options(repr.plot.width = 12, repr.plot.height = 6)\n",
    "\n",
    "ggplot(plot_df) +\n",
    "geom_tile(aes(x=factor(match_1, levels=MOTIF_SUBSET[tf_order]), y=factor(state, levels=STATE_ORDER), fill=frac)) +\n",
    "scale_fill_gradient(low=\"gray90\",\n",
    "                      high=\"violetred4\",\n",
    "                      limits=c(0.01, 0.3),\n",
    "                      oob=squish,\n",
    "                      trans='log10', \n",
    "                      name=\"Log10 fraction\") +\n",
    "xlab(\"Motif\") +\n",
    "ylab(\"\") +\n",
    "theme_bw() +\n",
    "theme(axis.text.x = element_text(angle = 90, hjust=0.95), # rotate TF text\n",
    "      strip.background = element_blank(),\n",
    "      panel.grid.major = element_blank(),\n",
    "          text = element_text(size=15)) "
   ]
  },
  {
   "cell_type": "code",
   "execution_count": null,
   "metadata": {},
   "outputs": [],
   "source": []
  },
  {
   "cell_type": "code",
   "execution_count": 30,
   "metadata": {},
   "outputs": [],
   "source": [
    "ggsave(\"./figs/motif_x_cell_state.pdf\", height=6, width=12, useDingbats=F)"
   ]
  },
  {
   "cell_type": "code",
   "execution_count": null,
   "metadata": {},
   "outputs": [],
   "source": []
  },
  {
   "cell_type": "code",
   "execution_count": null,
   "metadata": {},
   "outputs": [],
   "source": []
  }
 ],
 "metadata": {
  "kernelspec": {
   "display_name": "R",
   "language": "R",
   "name": "ir"
  },
  "language_info": {
   "codemirror_mode": "r",
   "file_extension": ".r",
   "mimetype": "text/x-r-source",
   "name": "R",
   "pygments_lexer": "r",
   "version": "4.1.1"
  }
 },
 "nbformat": 4,
 "nbformat_minor": 4
}
